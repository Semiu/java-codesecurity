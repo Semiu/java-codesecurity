{
 "cells": [
  {
   "cell_type": "markdown",
   "metadata": {},
   "source": [
    "## Fetching names of highly-rated projects of Java, JavaScript and Python from GitHub\n"
   ]
  },
  {
   "cell_type": "markdown",
   "metadata": {},
   "source": [
    "Import the operating system (os), progress bar (tqdm), requests and pandas libraries for their respective uses"
   ]
  },
  {
   "cell_type": "code",
   "execution_count": 20,
   "metadata": {},
   "outputs": [],
   "source": [
    "import os\n",
    "from tqdm import tqdm\n",
    "import requests as req\n",
    "import pandas as pd"
   ]
  },
  {
   "cell_type": "markdown",
   "metadata": {},
   "source": [
    "The languages of interest are Java, Python and JavaScript.\n",
    "Sub-directories are created when for each of them when not exists"
   ]
  },
  {
   "cell_type": "code",
   "execution_count": 21,
   "metadata": {},
   "outputs": [],
   "source": [
    "languages = ['Java', 'Python', 'JavaScript']\n",
    "target_dir = \"F:\\\\Dataset\\\\githubrepo\"\n",
    "for language in languages:\n",
    "    if not os.path.exists(target_dir + \"\\\\\" + language):\n",
    "        os.mkdir(target_dir + \"\\\\\" + language)"
   ]
  },
  {
   "cell_type": "markdown",
   "metadata": {},
   "source": [
    "This fetches 100 projects per language and the respective star count for each project.\n",
    "This is respectively stored in different csv files in the languages' respective sub-directories."
   ]
  },
  {
   "cell_type": "code",
   "execution_count": 22,
   "metadata": {},
   "outputs": [
    {
     "name": "stderr",
     "output_type": "stream",
     "text": [
      "100%|██████████| 3/3 [00:25<00:00,  8.49s/it]\n"
     ]
    }
   ],
   "source": [
    "repo_count = 100\n",
    "client_id = \"your_client_id\"\n",
    "client_secret = \"your_client_secret\"\n",
    "\n",
    "for language in tqdm(languages):\n",
    "    folder = {'project_name': [], 'star_count': []}\n",
    "    row = req.get('https://api.github.com/search/repositories?q=language:'+req.compat.quote_plus(str(language))+'&sort=stars&order=desc&per_page='+str(repo_count)+'&client_id='+str(client_id)+'&client_secret='+str(client_secret))\n",
    "    #print list(row)\n",
    "    #print(row.json()['items'][0])\n",
    "    for obj in row.json()['items']:\n",
    "        try:\n",
    "            folder['project_name'].append(str(obj['full_name']))\n",
    "            folder['star_count'].append(str(obj['stargazers_count']))\n",
    "        except:\n",
    "            print(\"Could not find a star count\")\n",
    "            \n",
    "        pd.DataFrame(data=folder).to_csv(target_dir + \"\\\\\" + language + \"\\\\\" + str(language)+'.csv', index=False)    "
   ]
  },
  {
   "cell_type": "markdown",
   "metadata": {},
   "source": [
    "Combining projects list for each of the languages into a single spreadsheet."
   ]
  },
  {
   "cell_type": "code",
   "execution_count": 29,
   "metadata": {},
   "outputs": [],
   "source": [
    "data_1 = {'Language': [], 'Projects': []}\n",
    "for language in languages:\n",
    "    try:\n",
    "        temp = pd.read_csv(target_dir + \"\\\\\" + language + \"\\\\\" + str(language)+'.csv')\n",
    "        data_1['Language'].append(language)\n",
    "        data_1['Projects'].append(' , '.join(temp[:100].values[:,0]))\n",
    "    except:\n",
    "        print(\"DONE\")"
   ]
  },
  {
   "cell_type": "markdown",
   "metadata": {},
   "source": [
    "Show the combined data as a data frame "
   ]
  },
  {
   "cell_type": "code",
   "execution_count": 30,
   "metadata": {},
   "outputs": [
    {
     "data": {
      "text/html": [
       "<div>\n",
       "<style scoped>\n",
       "    .dataframe tbody tr th:only-of-type {\n",
       "        vertical-align: middle;\n",
       "    }\n",
       "\n",
       "    .dataframe tbody tr th {\n",
       "        vertical-align: top;\n",
       "    }\n",
       "\n",
       "    .dataframe thead th {\n",
       "        text-align: right;\n",
       "    }\n",
       "</style>\n",
       "<table border=\"1\" class=\"dataframe\">\n",
       "  <thead>\n",
       "    <tr style=\"text-align: right;\">\n",
       "      <th></th>\n",
       "      <th>Language</th>\n",
       "      <th>Projects</th>\n",
       "    </tr>\n",
       "  </thead>\n",
       "  <tbody>\n",
       "    <tr>\n",
       "      <th>0</th>\n",
       "      <td>Java</td>\n",
       "      <td>CyC2018/CS-Notes , Snailclimb/JavaGuide , iluw...</td>\n",
       "    </tr>\n",
       "    <tr>\n",
       "      <th>1</th>\n",
       "      <td>Python</td>\n",
       "      <td>public-apis/public-apis , TheAlgorithms/Python...</td>\n",
       "    </tr>\n",
       "    <tr>\n",
       "      <th>2</th>\n",
       "      <td>JavaScript</td>\n",
       "      <td>freeCodeCamp/freeCodeCamp , vuejs/vue , facebo...</td>\n",
       "    </tr>\n",
       "  </tbody>\n",
       "</table>\n",
       "</div>"
      ],
      "text/plain": [
       "     Language                                           Projects\n",
       "0        Java  CyC2018/CS-Notes , Snailclimb/JavaGuide , iluw...\n",
       "1      Python  public-apis/public-apis , TheAlgorithms/Python...\n",
       "2  JavaScript  freeCodeCamp/freeCodeCamp , vuejs/vue , facebo..."
      ]
     },
     "execution_count": 30,
     "metadata": {},
     "output_type": "execute_result"
    }
   ],
   "source": [
    "pd.DataFrame(data=data_1).head()"
   ]
  },
  {
   "cell_type": "markdown",
   "metadata": {},
   "source": [
    "Converted to csv and saved as langrepo.csv"
   ]
  },
  {
   "cell_type": "code",
   "execution_count": 31,
   "metadata": {},
   "outputs": [],
   "source": [
    "file_1 = target_dir + \"\\\\\" + 'langrepo.csv'"
   ]
  },
  {
   "cell_type": "code",
   "execution_count": 32,
   "metadata": {},
   "outputs": [],
   "source": [
    "pd.DataFrame(data=data_1).to_csv(file_1,index=False)"
   ]
  }
 ],
 "metadata": {
  "kernelspec": {
   "display_name": "Python 3",
   "language": "python",
   "name": "python3"
  },
  "language_info": {
   "codemirror_mode": {
    "name": "ipython",
    "version": 3
   },
   "file_extension": ".py",
   "mimetype": "text/x-python",
   "name": "python",
   "nbconvert_exporter": "python",
   "pygments_lexer": "ipython3",
   "version": "3.7.9"
  }
 },
 "nbformat": 4,
 "nbformat_minor": 4
}
