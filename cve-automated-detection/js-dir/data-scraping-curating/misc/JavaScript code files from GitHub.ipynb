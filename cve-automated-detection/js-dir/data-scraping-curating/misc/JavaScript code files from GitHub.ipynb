{
 "cells": [
  {
   "cell_type": "markdown",
   "metadata": {},
   "source": [
    "This returns empty directories at the target directory.\n",
    "---Work in progress---"
   ]
  },
  {
   "cell_type": "code",
   "execution_count": 1,
   "metadata": {},
   "outputs": [
    {
     "name": "stdout",
     "output_type": "stream",
     "text": [
      "freeCodeCamp\n",
      "vue\n",
      "react\n",
      "bootstrap\n",
      "javascript\n"
     ]
    }
   ],
   "source": [
    "import os\n",
    "from github import Github\n",
    "import base64\n",
    "\n",
    "username = \"ayobami.sm@gmail.com\"\n",
    "password = \"AYObami@1984\"\n",
    "target_dir = \"F:\\\\Dataset\\\\Javascriptfiles\"\n",
    "g = Github(username, password)\n",
    "repositories = g.search_repositories(query='language:javascript')\n",
    "#print(list(repositories))\n",
    "n=5 #end\n",
    "i=0 #start\n",
    "\n",
    "#Looping through the repositories to find those that match our criteria\n",
    "for repo in repositories:\n",
    "    repo_name = repo.name\n",
    "    target_dir_of_repo = target_dir + \"\\\\\" + repo_name\n",
    "    print(repo_name)\n",
    "    try:\n",
    "        os.mkdir(target_dir_of_repo)\n",
    "        i += 1\n",
    "        contents = repo.get_contents(\"\")\n",
    "        \n",
    "        while len(contents) > 1:\n",
    "            file_content = contents.pop(0)\n",
    "            if file_content.type == \"dir\":\n",
    "                contents.extend(repo.get_contents(file_content.path))\n",
    "            else:\n",
    "                st = str(file_content)\n",
    "                file_name = st.split('\"')[1].split('\"')[0]\n",
    "                extension = filename.split(\".\")[-1]\n",
    "                if extension == \"js\":\n",
    "                    file_contents = repo.get_contents(file_content.path)\n",
    "                    file_data = base64.b64decode(file_contents.content)\n",
    "                    filename = filename.split(\"/\")[-1]\n",
    "                    file_out = open(target_dir_of_repo + \"/\" + filename, \"wb\")\n",
    "                    file_out.write(file_data)\n",
    "                \n",
    "    except:\n",
    "        pass\n",
    "    if i == n:\n",
    "        break"
   ]
  },
  {
   "cell_type": "code",
   "execution_count": null,
   "metadata": {},
   "outputs": [],
   "source": []
  }
 ],
 "metadata": {
  "kernelspec": {
   "display_name": "Python 3",
   "language": "python",
   "name": "python3"
  },
  "language_info": {
   "codemirror_mode": {
    "name": "ipython",
    "version": 3
   },
   "file_extension": ".py",
   "mimetype": "text/x-python",
   "name": "python",
   "nbconvert_exporter": "python",
   "pygments_lexer": "ipython3",
   "version": "3.7.9"
  }
 },
 "nbformat": 4,
 "nbformat_minor": 4
}
