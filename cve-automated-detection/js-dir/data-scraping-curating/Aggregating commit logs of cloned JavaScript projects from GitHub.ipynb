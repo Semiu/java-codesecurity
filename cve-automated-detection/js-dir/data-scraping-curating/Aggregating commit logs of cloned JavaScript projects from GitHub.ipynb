{
 "cells": [
  {
   "cell_type": "markdown",
   "metadata": {},
   "source": [
    "This script aggregates commits log from JavaScript projects cloned from GitHub.\n",
    "This script is a continuation of a. [Fetching GitHub projects](https://github.com/Semiu/java-codesecurity/blob/main/data-scraping-curating/Fetching%20GitHub%20projects.ipynb), b. [Cloning GitHub projects](https://github.com/Semiu/java-codesecurity/blob/main/data-scraping-curating/Cloning%20GitHub%20projects%20for%20research.ipynb), and c. [Generating commit history log](https://github.com/Semiu/java-codesecurity/blob/main/data-scraping-curating/Generating%20commit%20history%20log%20for%20each%20of%20the%20projects.ipynb) where fetching, cloning, and commit generation are done for JavaScript, Python, and Java projects."
   ]
  },
  {
   "cell_type": "markdown",
   "metadata": {},
   "source": [
    "The aggregration of the projects' commit log into a single file is then done individually for the languages."
   ]
  },
  {
   "cell_type": "markdown",
   "metadata": {},
   "source": [
    "Import required modules"
   ]
  },
  {
   "cell_type": "code",
   "execution_count": 1,
   "metadata": {},
   "outputs": [],
   "source": [
    "import pandas as pd\n",
    "from tqdm import tqdm\n",
    "import os"
   ]
  },
  {
   "cell_type": "code",
   "execution_count": 2,
   "metadata": {},
   "outputs": [],
   "source": [
    "#Where the repos are located\n",
    "REPO_PATH = 'F:\\\\Dataset\\\\githubrepo\\\\'\n",
    "\n",
    "#where this notebook is running\n",
    "BASE_PATH = 'C:\\\\Users\\\\Semiu\\\\Documents\\\\js-vulnerabilities-dataset\\\\data-scraping-curating'\n",
    "\n",
    "#Where project data is stored in the development folder\n",
    "#DATA_PATH = 'C:\\\\Users\\\\Semiu\\\\Documents\\\\java-codesecurity\\\\JavaVulData\\\\'\n",
    "\n",
    "#Getting the input parameter for the generate_commit_log function\n",
    "#languages = pd.read_csv('F:\\\\Dataset\\\\githubrepo\\\\langrepo.csv')"
   ]
  },
  {
   "cell_type": "code",
   "execution_count": 3,
   "metadata": {},
   "outputs": [],
   "source": [
    "#Aggregate commit log for the JavaScipt language\n",
    "def aggregate_commit_js():\n",
    "    language = 'JavaScript'\n",
    "    language_project = pd.read_csv(REPO_PATH+'\\\\'+language+ '\\\\'+language+'.csv')\n",
    "    for project in tqdm(language_project['project_name']):\n",
    "        \n",
    "        os.chdir(REPO_PATH+language+'/'+project.replace('/','_')+'/')\n",
    "        \n",
    "        js_raw_commits = open('commit_history.txt', encoding='utf-8', errors='ignore').readlines()\n",
    "        \n",
    "        with open(REPO_PATH+'\\\\'+language+'\\\\'+'js_raw_commits.txt', 'a+', encoding=\"utf-8\") as js_raw_commits_file:\n",
    "            js_raw_commits_file.writelines(js_raw_commits)\n",
    "        \n",
    "        os.chdir(BASE_PATH)\n",
    "        #Windows command included to send a copy of the java_raw_commits.txt to the development folder\n",
    "    #os.system('copy '+REPO_PATH+'\\\\'+language+'\\\\'+'java_raw_commits.txt' + ' ' +DATA_PATH)"
   ]
  },
  {
   "cell_type": "code",
   "execution_count": 4,
   "metadata": {},
   "outputs": [
    {
     "name": "stderr",
     "output_type": "stream",
     "text": [
      "100%|██████████| 100/100 [00:15<00:00,  6.44it/s]\n"
     ]
    }
   ],
   "source": [
    "#Calling the function - It aggregates the commits history of all the projects into a single file\n",
    "aggregate_commit_js()"
   ]
  },
  {
   "cell_type": "code",
   "execution_count": null,
   "metadata": {},
   "outputs": [],
   "source": []
  }
 ],
 "metadata": {
  "kernelspec": {
   "display_name": "Python 3",
   "language": "python",
   "name": "python3"
  },
  "language_info": {
   "codemirror_mode": {
    "name": "ipython",
    "version": 3
   },
   "file_extension": ".py",
   "mimetype": "text/x-python",
   "name": "python",
   "nbconvert_exporter": "python",
   "pygments_lexer": "ipython3",
   "version": "3.7.9"
  }
 },
 "nbformat": 4,
 "nbformat_minor": 4
}
