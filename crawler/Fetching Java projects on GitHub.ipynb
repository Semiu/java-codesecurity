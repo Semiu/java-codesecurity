{
 "cells": [
  {
   "cell_type": "markdown",
   "metadata": {},
   "source": [
    "### Fetching the names of highly-rated Java projects from GitHub"
   ]
  },
  {
   "cell_type": "markdown",
   "metadata": {},
   "source": [
    "Import the operating system (os), progress bar (tqdm), requests and pandas libraries for their respective uses"
   ]
  },
  {
   "cell_type": "code",
   "execution_count": 4,
   "metadata": {},
   "outputs": [],
   "source": [
    "import os\n",
    "from tqdm import tqdm\n",
    "import requests as req\n",
    "import pandas as pd"
   ]
  },
  {
   "cell_type": "code",
   "execution_count": 6,
   "metadata": {},
   "outputs": [],
   "source": [
    "#Specify/Initialize the language and create a directory for it\n",
    "language = 'Java'\n",
    "target_dir = \"F:\\\\Dataset\\\\repo\"\n",
    "\n",
    "if not os.path.exists(target_dir + \"\\\\\" + language):\n",
    "    os.mkdir(target_dir + \"\\\\\" + language)"
   ]
  },
  {
   "cell_type": "markdown",
   "metadata": {},
   "source": [
    "This fetches 300 projects and the respective star counts for the langage.\n",
    "This is respectively stored in different csv files in the languages' respective sub-directories."
   ]
  },
  {
   "cell_type": "code",
   "execution_count": 11,
   "metadata": {},
   "outputs": [
    {
     "name": "stdout",
     "output_type": "stream",
     "text": [
      "{'id': 121395510, 'node_id': 'MDEwOlJlcG9zaXRvcnkxMjEzOTU1MTA=', 'name': 'CS-Notes', 'full_name': 'CyC2018/CS-Notes', 'private': False, 'owner': {'login': 'CyC2018', 'id': 36260787, 'node_id': 'MDQ6VXNlcjM2MjYwNzg3', 'avatar_url': 'https://avatars.githubusercontent.com/u/36260787?v=4', 'gravatar_id': '', 'url': 'https://api.github.com/users/CyC2018', 'html_url': 'https://github.com/CyC2018', 'followers_url': 'https://api.github.com/users/CyC2018/followers', 'following_url': 'https://api.github.com/users/CyC2018/following{/other_user}', 'gists_url': 'https://api.github.com/users/CyC2018/gists{/gist_id}', 'starred_url': 'https://api.github.com/users/CyC2018/starred{/owner}{/repo}', 'subscriptions_url': 'https://api.github.com/users/CyC2018/subscriptions', 'organizations_url': 'https://api.github.com/users/CyC2018/orgs', 'repos_url': 'https://api.github.com/users/CyC2018/repos', 'events_url': 'https://api.github.com/users/CyC2018/events{/privacy}', 'received_events_url': 'https://api.github.com/users/CyC2018/received_events', 'type': 'User', 'site_admin': False}, 'html_url': 'https://github.com/CyC2018/CS-Notes', 'description': ':books: 技术面试必备基础知识、Leetcode、计算机操作系统、计算机网络、系统设计、Java、Python、C++', 'fork': False, 'url': 'https://api.github.com/repos/CyC2018/CS-Notes', 'forks_url': 'https://api.github.com/repos/CyC2018/CS-Notes/forks', 'keys_url': 'https://api.github.com/repos/CyC2018/CS-Notes/keys{/key_id}', 'collaborators_url': 'https://api.github.com/repos/CyC2018/CS-Notes/collaborators{/collaborator}', 'teams_url': 'https://api.github.com/repos/CyC2018/CS-Notes/teams', 'hooks_url': 'https://api.github.com/repos/CyC2018/CS-Notes/hooks', 'issue_events_url': 'https://api.github.com/repos/CyC2018/CS-Notes/issues/events{/number}', 'events_url': 'https://api.github.com/repos/CyC2018/CS-Notes/events', 'assignees_url': 'https://api.github.com/repos/CyC2018/CS-Notes/assignees{/user}', 'branches_url': 'https://api.github.com/repos/CyC2018/CS-Notes/branches{/branch}', 'tags_url': 'https://api.github.com/repos/CyC2018/CS-Notes/tags', 'blobs_url': 'https://api.github.com/repos/CyC2018/CS-Notes/git/blobs{/sha}', 'git_tags_url': 'https://api.github.com/repos/CyC2018/CS-Notes/git/tags{/sha}', 'git_refs_url': 'https://api.github.com/repos/CyC2018/CS-Notes/git/refs{/sha}', 'trees_url': 'https://api.github.com/repos/CyC2018/CS-Notes/git/trees{/sha}', 'statuses_url': 'https://api.github.com/repos/CyC2018/CS-Notes/statuses/{sha}', 'languages_url': 'https://api.github.com/repos/CyC2018/CS-Notes/languages', 'stargazers_url': 'https://api.github.com/repos/CyC2018/CS-Notes/stargazers', 'contributors_url': 'https://api.github.com/repos/CyC2018/CS-Notes/contributors', 'subscribers_url': 'https://api.github.com/repos/CyC2018/CS-Notes/subscribers', 'subscription_url': 'https://api.github.com/repos/CyC2018/CS-Notes/subscription', 'commits_url': 'https://api.github.com/repos/CyC2018/CS-Notes/commits{/sha}', 'git_commits_url': 'https://api.github.com/repos/CyC2018/CS-Notes/git/commits{/sha}', 'comments_url': 'https://api.github.com/repos/CyC2018/CS-Notes/comments{/number}', 'issue_comment_url': 'https://api.github.com/repos/CyC2018/CS-Notes/issues/comments{/number}', 'contents_url': 'https://api.github.com/repos/CyC2018/CS-Notes/contents/{+path}', 'compare_url': 'https://api.github.com/repos/CyC2018/CS-Notes/compare/{base}...{head}', 'merges_url': 'https://api.github.com/repos/CyC2018/CS-Notes/merges', 'archive_url': 'https://api.github.com/repos/CyC2018/CS-Notes/{archive_format}{/ref}', 'downloads_url': 'https://api.github.com/repos/CyC2018/CS-Notes/downloads', 'issues_url': 'https://api.github.com/repos/CyC2018/CS-Notes/issues{/number}', 'pulls_url': 'https://api.github.com/repos/CyC2018/CS-Notes/pulls{/number}', 'milestones_url': 'https://api.github.com/repos/CyC2018/CS-Notes/milestones{/number}', 'notifications_url': 'https://api.github.com/repos/CyC2018/CS-Notes/notifications{?since,all,participating}', 'labels_url': 'https://api.github.com/repos/CyC2018/CS-Notes/labels{/name}', 'releases_url': 'https://api.github.com/repos/CyC2018/CS-Notes/releases{/id}', 'deployments_url': 'https://api.github.com/repos/CyC2018/CS-Notes/deployments', 'created_at': '2018-02-13T14:56:24Z', 'updated_at': '2021-02-17T20:32:35Z', 'pushed_at': '2021-02-03T16:16:05Z', 'git_url': 'git://github.com/CyC2018/CS-Notes.git', 'ssh_url': 'git@github.com:CyC2018/CS-Notes.git', 'clone_url': 'https://github.com/CyC2018/CS-Notes.git', 'svn_url': 'https://github.com/CyC2018/CS-Notes', 'homepage': 'http://www.cyc2018.xyz', 'size': 115155, 'stargazers_count': 120896, 'watchers_count': 120896, 'language': 'Java', 'has_issues': True, 'has_projects': True, 'has_downloads': True, 'has_wiki': True, 'has_pages': True, 'forks_count': 39264, 'mirror_url': None, 'archived': False, 'disabled': False, 'open_issues_count': 64, 'license': None, 'forks': 39264, 'open_issues': 64, 'watchers': 120896, 'default_branch': 'master', 'score': 1.0}\n"
     ]
    }
   ],
   "source": [
    "#Fetch the first 300 projects names and stars\n",
    "repo_count = 300\n",
    "client_id = \"Iv1.856cee3a06bc1210\"\n",
    "client_secret = \"c273719f59baad59f389383473ab9eac34d6b61b\"\n",
    "\n",
    "folder = {'project_name': [], 'star_count': []}\n",
    "\n",
    "row = req.get('https://api.github.com/search/repositories?q=language:'+req.compat.quote_plus(str(language))+'&sort=stars&order=desc&per_page='+str(repo_count)+'&client_id='+str(client_id)+'&client_secret='+str(client_secret))\n",
    "\n",
    "#Check how the first element looks like\n",
    "print(row.json()['items'][0])\n",
    "\n",
    "for obj in row.json()['items']:\n",
    "    try:\n",
    "        folder['project_name'].append(str(obj['full_name']))\n",
    "        folder['star_count'].append(str(obj['stargazers_count']))\n",
    "    except:\n",
    "        print(\"Could not find a star count\")\n",
    "\n",
    "pd.DataFrame(data=folder).to_csv(target_dir + \"\\\\\" + language + \"\\\\\" + str(language)+'.csv', index=False)    \n"
   ]
  },
  {
   "cell_type": "code",
   "execution_count": 12,
   "metadata": {},
   "outputs": [
    {
     "data": {
      "text/html": [
       "<div>\n",
       "<style scoped>\n",
       "    .dataframe tbody tr th:only-of-type {\n",
       "        vertical-align: middle;\n",
       "    }\n",
       "\n",
       "    .dataframe tbody tr th {\n",
       "        vertical-align: top;\n",
       "    }\n",
       "\n",
       "    .dataframe thead th {\n",
       "        text-align: right;\n",
       "    }\n",
       "</style>\n",
       "<table border=\"1\" class=\"dataframe\">\n",
       "  <thead>\n",
       "    <tr style=\"text-align: right;\">\n",
       "      <th></th>\n",
       "      <th>Language</th>\n",
       "      <th>Projects</th>\n",
       "    </tr>\n",
       "  </thead>\n",
       "  <tbody>\n",
       "    <tr>\n",
       "      <th>0</th>\n",
       "      <td>Java</td>\n",
       "      <td>CyC2018/CS-Notes , Snailclimb/JavaGuide , iluw...</td>\n",
       "    </tr>\n",
       "  </tbody>\n",
       "</table>\n",
       "</div>"
      ],
      "text/plain": [
       "  Language                                           Projects\n",
       "0     Java  CyC2018/CS-Notes , Snailclimb/JavaGuide , iluw..."
      ]
     },
     "execution_count": 12,
     "metadata": {},
     "output_type": "execute_result"
    }
   ],
   "source": [
    "#Merging the language and projects (This makes sense when theere are more than one language)\n",
    "project_info = {'Language': [], 'Projects': []}\n",
    "try:\n",
    "    temp = pd.read_csv(target_dir + \"\\\\\" + language + \"\\\\\" + str(language)+'.csv')\n",
    "    project_info['Language'].append(language)\n",
    "    project_info['Projects'].append(' , '.join(temp[:10].values[:,0]))\n",
    "except:\n",
    "    print(\"I could not get it done, buddy!\")\n",
    "    \n",
    "#Show the head\n",
    "pd.DataFrame(data=project_info).head()"
   ]
  },
  {
   "cell_type": "code",
   "execution_count": 13,
   "metadata": {},
   "outputs": [],
   "source": [
    "#Save the Java projects in a CSV file\n",
    "java_projects = target_dir + \"\\\\\" + language + \"\\\\\" + 'javarepo.csv'\n",
    "\n",
    "pd.DataFrame(data=project_info).to_csv(java_projects,index=False)"
   ]
  },
  {
   "cell_type": "code",
   "execution_count": null,
   "metadata": {},
   "outputs": [],
   "source": []
  },
  {
   "cell_type": "code",
   "execution_count": null,
   "metadata": {},
   "outputs": [],
   "source": []
  }
 ],
 "metadata": {
  "kernelspec": {
   "display_name": "Python 3",
   "language": "python",
   "name": "python3"
  },
  "language_info": {
   "codemirror_mode": {
    "name": "ipython",
    "version": 3
   },
   "file_extension": ".py",
   "mimetype": "text/x-python",
   "name": "python",
   "nbconvert_exporter": "python",
   "pygments_lexer": "ipython3",
   "version": "3.7.9"
  }
 },
 "nbformat": 4,
 "nbformat_minor": 4
}
