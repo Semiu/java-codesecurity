{
 "cells": [
  {
   "cell_type": "markdown",
   "metadata": {},
   "source": [
    "This script is to scrape Java code files, identified by `.java` extension, from GitHub."
   ]
  },
  {
   "cell_type": "markdown",
   "metadata": {},
   "source": [
    "The repos scraped in this script are randomly picked\n"
   ]
  },
  {
   "cell_type": "markdown",
   "metadata": {},
   "source": [
    "Import the PyGitHub, operating system, and base64 (to decode base64 encoded files) libraries/modules"
   ]
  },
  {
   "cell_type": "code",
   "execution_count": 13,
   "metadata": {},
   "outputs": [],
   "source": [
    "import os\n",
    "from github import Github\n",
    "import base64"
   ]
  },
  {
   "cell_type": "markdown",
   "metadata": {},
   "source": [
    "GitHub login credentials and target directory for the files.\n",
    "Specifiying the number of iteration to control the rate of the scraping"
   ]
  },
  {
   "cell_type": "code",
   "execution_count": 18,
   "metadata": {},
   "outputs": [],
   "source": [
    "username = \"ayobami.sm@gmail.com\"\n",
    "password = \"AYObami@1984\"\n",
    "target_dir = r\"F:\\Dataset\\Javafiles\"\n",
    "g = Github(username, password)\n",
    "repositories = g.search_repositories(query='language:java')\n",
    "#print(list(repositories))\n",
    "n=5 #end\n",
    "i=0 #start"
   ]
  },
  {
   "cell_type": "markdown",
   "metadata": {},
   "source": [
    "Looping through the repositories to find those that match our criteria"
   ]
  },
  {
   "cell_type": "code",
   "execution_count": 15,
   "metadata": {},
   "outputs": [
    {
     "name": "stdout",
     "output_type": "stream",
     "text": [
      "CS-Notes\n",
      "JavaGuide\n",
      "java-design-patterns\n",
      "LeetCodeAnimation\n",
      "elasticsearch\n",
      "spring-boot\n",
      "advanced-java\n",
      "interviews\n",
      "RxJava\n",
      "guava\n",
      "---try_bloc---\n",
      "[ContentFile(path=\".gitattributes\"), ContentFile(path=\".gitignore\"), ContentFile(path=\".travis.yml\"), ContentFile(path=\"CONTRIBUTING.md\"), ContentFile(path=\"CONTRIBUTORS\"), ContentFile(path=\"COPYING\"), ContentFile(path=\"README.md\"), ContentFile(path=\"android\"), ContentFile(path=\"cycle_suppress_list.txt\"), ContentFile(path=\"futures\"), ContentFile(path=\"guava-bom\"), ContentFile(path=\"guava-gwt\"), ContentFile(path=\"guava-testlib\"), ContentFile(path=\"guava-tests\"), ContentFile(path=\"guava\"), ContentFile(path=\"javadoc-stylesheet.css\"), ContentFile(path=\"pom.xml\"), ContentFile(path=\"refactorings\"), ContentFile(path=\"util\")]\n",
      "---else_bloc---\n",
      "ContentFile(path=\".gitattributes\")\n",
      "okhttp\n",
      "---try_bloc---\n",
      "[ContentFile(path=\".circleci\"), ContentFile(path=\".editorconfig\"), ContentFile(path=\".github\"), ContentFile(path=\".gitignore\"), ContentFile(path=\".gitmodules\"), ContentFile(path=\".junit.run\"), ContentFile(path=\"BUG-BOUNTY.md\"), ContentFile(path=\"CHANGELOG.md\"), ContentFile(path=\"CONTRIBUTING.md\"), ContentFile(path=\"LICENSE.txt\"), ContentFile(path=\"README.md\"), ContentFile(path=\"android-test\"), ContentFile(path=\"build.gradle\"), ContentFile(path=\"buildSrc\"), ContentFile(path=\"deploy_website.sh\"), ContentFile(path=\"docs\"), ContentFile(path=\"fuzzing\"), ContentFile(path=\"gradle.properties\"), ContentFile(path=\"gradle\"), ContentFile(path=\"gradlew\"), ContentFile(path=\"gradlew.bat\"), ContentFile(path=\"mkdocs.yml\"), ContentFile(path=\"mockwebserver-deprecated\"), ContentFile(path=\"mockwebserver-junit4\"), ContentFile(path=\"mockwebserver-junit5\"), ContentFile(path=\"mockwebserver\"), ContentFile(path=\"native-image-tests\"), ContentFile(path=\"okcurl\"), ContentFile(path=\"okhttp-bom\"), ContentFile(path=\"okhttp-brotli\"), ContentFile(path=\"okhttp-dnsoverhttps\"), ContentFile(path=\"okhttp-hpacktests\"), ContentFile(path=\"okhttp-logging-interceptor\"), ContentFile(path=\"okhttp-sse\"), ContentFile(path=\"okhttp-testing-support\"), ContentFile(path=\"okhttp-tls\"), ContentFile(path=\"okhttp-urlconnection\"), ContentFile(path=\"okhttp\"), ContentFile(path=\"regression-test\"), ContentFile(path=\"samples\"), ContentFile(path=\"settings.gradle.kts\")]\n",
      "---if_bloc---\n",
      "[ContentFile(path=\".editorconfig\"), ContentFile(path=\".github\"), ContentFile(path=\".gitignore\"), ContentFile(path=\".gitmodules\"), ContentFile(path=\".junit.run\"), ContentFile(path=\"BUG-BOUNTY.md\"), ContentFile(path=\"CHANGELOG.md\"), ContentFile(path=\"CONTRIBUTING.md\"), ContentFile(path=\"LICENSE.txt\"), ContentFile(path=\"README.md\"), ContentFile(path=\"android-test\"), ContentFile(path=\"build.gradle\"), ContentFile(path=\"buildSrc\"), ContentFile(path=\"deploy_website.sh\"), ContentFile(path=\"docs\"), ContentFile(path=\"fuzzing\"), ContentFile(path=\"gradle.properties\"), ContentFile(path=\"gradle\"), ContentFile(path=\"gradlew\"), ContentFile(path=\"gradlew.bat\"), ContentFile(path=\"mkdocs.yml\"), ContentFile(path=\"mockwebserver-deprecated\"), ContentFile(path=\"mockwebserver-junit4\"), ContentFile(path=\"mockwebserver-junit5\"), ContentFile(path=\"mockwebserver\"), ContentFile(path=\"native-image-tests\"), ContentFile(path=\"okcurl\"), ContentFile(path=\"okhttp-bom\"), ContentFile(path=\"okhttp-brotli\"), ContentFile(path=\"okhttp-dnsoverhttps\"), ContentFile(path=\"okhttp-hpacktests\"), ContentFile(path=\"okhttp-logging-interceptor\"), ContentFile(path=\"okhttp-sse\"), ContentFile(path=\"okhttp-testing-support\"), ContentFile(path=\"okhttp-tls\"), ContentFile(path=\"okhttp-urlconnection\"), ContentFile(path=\"okhttp\"), ContentFile(path=\"regression-test\"), ContentFile(path=\"samples\"), ContentFile(path=\"settings.gradle.kts\"), ContentFile(path=\".circleci/config.yml\")]\n",
      "---else_bloc---\n",
      "ContentFile(path=\".editorconfig\")\n",
      "Java\n",
      "AndroidUtilCode\n",
      "---try_bloc---\n",
      "[ContentFile(path=\".github\"), ContentFile(path=\".gitignore\"), ContentFile(path=\"CHANGELOG.md\"), ContentFile(path=\"LICENSE\"), ContentFile(path=\"README-CN.md\"), ContentFile(path=\"README.md\"), ContentFile(path=\"art\"), ContentFile(path=\"build.gradle\"), ContentFile(path=\"buildApp.gradle\"), ContentFile(path=\"buildCommon.gradle\"), ContentFile(path=\"buildLib.gradle\"), ContentFile(path=\"buildSrc\"), ContentFile(path=\"config.json\"), ContentFile(path=\"feature\"), ContentFile(path=\"gradle.properties\"), ContentFile(path=\"gradle\"), ContentFile(path=\"gradlew\"), ContentFile(path=\"gradlew.bat\"), ContentFile(path=\"lib\"), ContentFile(path=\"plugin\"), ContentFile(path=\"script\"), ContentFile(path=\"settings.gradle\"), ContentFile(path=\"sign\")]\n",
      "---if_bloc---\n",
      "[ContentFile(path=\".gitignore\"), ContentFile(path=\"CHANGELOG.md\"), ContentFile(path=\"LICENSE\"), ContentFile(path=\"README-CN.md\"), ContentFile(path=\"README.md\"), ContentFile(path=\"art\"), ContentFile(path=\"build.gradle\"), ContentFile(path=\"buildApp.gradle\"), ContentFile(path=\"buildCommon.gradle\"), ContentFile(path=\"buildLib.gradle\"), ContentFile(path=\"buildSrc\"), ContentFile(path=\"config.json\"), ContentFile(path=\"feature\"), ContentFile(path=\"gradle.properties\"), ContentFile(path=\"gradle\"), ContentFile(path=\"gradlew\"), ContentFile(path=\"gradlew.bat\"), ContentFile(path=\"lib\"), ContentFile(path=\"plugin\"), ContentFile(path=\"script\"), ContentFile(path=\"settings.gradle\"), ContentFile(path=\"sign\"), ContentFile(path=\".github/FUNDING.yml\"), ContentFile(path=\".github/ISSUE_TEMPLATE\"), ContentFile(path=\".github/workflows\")]\n",
      "---else_bloc---\n",
      "ContentFile(path=\".gitignore\")\n",
      "zxing\n",
      "---try_bloc---\n",
      "[ContentFile(path=\".editorconfig\"), ContentFile(path=\".gitattributes\"), ContentFile(path=\".github\"), ContentFile(path=\".gitignore\"), ContentFile(path=\".reuse\"), ContentFile(path=\".travis.yml\"), ContentFile(path=\"AUTHORS\"), ContentFile(path=\"CHANGES\"), ContentFile(path=\"LICENSE\"), ContentFile(path=\"NOTICE\"), ContentFile(path=\"README.md\"), ContentFile(path=\"android-core\"), ContentFile(path=\"android-integration\"), ContentFile(path=\"android\"), ContentFile(path=\"core\"), ContentFile(path=\"docs\"), ContentFile(path=\"javase\"), ContentFile(path=\"pom.xml\"), ContentFile(path=\"src\"), ContentFile(path=\"zxing.appspot.com\"), ContentFile(path=\"zxingorg\")]\n",
      "---else_bloc---\n",
      "ContentFile(path=\".editorconfig\")\n",
      "netty\n",
      "---try_bloc---\n",
      "[ContentFile(path=\".fbprefs\"), ContentFile(path=\".gitattributes\"), ContentFile(path=\".github\"), ContentFile(path=\".gitignore\"), ContentFile(path=\".lgtm.yml\"), ContentFile(path=\".mvn\"), ContentFile(path=\"CONTRIBUTING.md\"), ContentFile(path=\"LICENSE.txt\"), ContentFile(path=\"NOTICE.txt\"), ContentFile(path=\"README.md\"), ContentFile(path=\"SECURITY.md\"), ContentFile(path=\"all\"), ContentFile(path=\"bom\"), ContentFile(path=\"buffer\"), ContentFile(path=\"codec-dns\"), ContentFile(path=\"codec-haproxy\"), ContentFile(path=\"codec-http\"), ContentFile(path=\"codec-http2\"), ContentFile(path=\"codec-memcache\"), ContentFile(path=\"codec-mqtt\"), ContentFile(path=\"codec-redis\"), ContentFile(path=\"codec-smtp\"), ContentFile(path=\"codec-socks\"), ContentFile(path=\"codec-stomp\"), ContentFile(path=\"codec-xml\"), ContentFile(path=\"codec\"), ContentFile(path=\"common\"), ContentFile(path=\"dev-tools\"), ContentFile(path=\"docker\"), ContentFile(path=\"example\"), ContentFile(path=\"handler-proxy\"), ContentFile(path=\"handler\"), ContentFile(path=\"license\"), ContentFile(path=\"microbench\"), ContentFile(path=\"mvnw\"), ContentFile(path=\"mvnw.cmd\"), ContentFile(path=\"nohttp-checkstyle-suppressions.xml\"), ContentFile(path=\"nohttp-checkstyle.xml\"), ContentFile(path=\"pom.xml\"), ContentFile(path=\"resolver-dns-native-macos\"), ContentFile(path=\"resolver-dns\"), ContentFile(path=\"resolver\"), ContentFile(path=\"run-example.sh\"), ContentFile(path=\"tarball\"), ContentFile(path=\"testsuite-autobahn\"), ContentFile(path=\"testsuite-http2\"), ContentFile(path=\"testsuite-native-image-client-runtime-init\"), ContentFile(path=\"testsuite-native-image-client\"), ContentFile(path=\"testsuite-native-image\"), ContentFile(path=\"testsuite-native\"), ContentFile(path=\"testsuite-osgi\"), ContentFile(path=\"testsuite-shading\"), ContentFile(path=\"testsuite\"), ContentFile(path=\"transport-blockhound-tests\"), ContentFile(path=\"transport-native-epoll\"), ContentFile(path=\"transport-native-kqueue\"), ContentFile(path=\"transport-native-unix-common-tests\"), ContentFile(path=\"transport-native-unix-common\"), ContentFile(path=\"transport-rxtx\"), ContentFile(path=\"transport-sctp\"), ContentFile(path=\"transport-udt\"), ContentFile(path=\"transport\")]\n",
      "---else_bloc---\n",
      "ContentFile(path=\".fbprefs\")\n"
     ]
    }
   ],
   "source": [
    "for repo in repositories:\n",
    "    repo_name = repo.name\n",
    "    target_dir_of_repo = target_dir+\"\\\\\"+repo_name\n",
    "    print(repo_name)\n",
    "    try:\n",
    "        os.mkdir(target_dir_of_repo)\n",
    "        i += 1\n",
    "        contents = repo.get_contents(\"\")\n",
    "        print(\"---try_bloc---\")\n",
    "        print(contents)\n",
    "        \n",
    "        while len(contents) > 1:\n",
    "            file_content = contents.pop(0)\n",
    "            if file_content.type == \"dir\":\n",
    "                contents.extend(repo.get_contents(file_content.path))\n",
    "                print(\"---if_bloc---\")\n",
    "                print(contents)\n",
    "            else:\n",
    "                print(\"---else_bloc---\")\n",
    "                print(file_content)\n",
    "                st = str(file_content)\n",
    "                file_name = st.split(\"\\\"\")[1].split(\"\\\"\")[0]\n",
    "                extension = filename.split(\".\")[-1]\n",
    "                if extension == \"java\":\n",
    "                    file_contents = repo.get_contents(file_content.path)\n",
    "                    file_data = base64.b64decode(file_contents.content)\n",
    "                    filename = filename.split(\"/\")[-1]\n",
    "                    file_out = open(target_dir_of_repo+\"/\"+filename, \"wb\")\n",
    "                    file_out.write(file_data)\n",
    "                \n",
    "    except:\n",
    "        pass\n",
    "    if i == n:\n",
    "        break"
   ]
  },
  {
   "cell_type": "code",
   "execution_count": null,
   "metadata": {},
   "outputs": [],
   "source": []
  },
  {
   "cell_type": "code",
   "execution_count": null,
   "metadata": {},
   "outputs": [],
   "source": []
  }
 ],
 "metadata": {
  "kernelspec": {
   "display_name": "Python 3",
   "language": "python",
   "name": "python3"
  },
  "language_info": {
   "codemirror_mode": {
    "name": "ipython",
    "version": 3
   },
   "file_extension": ".py",
   "mimetype": "text/x-python",
   "name": "python",
   "nbconvert_exporter": "python",
   "pygments_lexer": "ipython3",
   "version": "3.7.9"
  }
 },
 "nbformat": 4,
 "nbformat_minor": 4
}
