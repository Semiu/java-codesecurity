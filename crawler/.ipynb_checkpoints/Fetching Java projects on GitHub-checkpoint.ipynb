{
 "cells": [
  {
   "cell_type": "markdown",
   "metadata": {},
   "source": [
    "### Fetching the names of highly-rated Java projects from GitHub"
   ]
  },
  {
   "cell_type": "markdown",
   "metadata": {},
   "source": [
    "Import the operating system (os), progress bar (tqdm), requests and pandas libraries for their respective uses"
   ]
  },
  {
   "cell_type": "code",
   "execution_count": null,
   "metadata": {},
   "outputs": [],
   "source": [
    "import os\n",
    "from tqdm import tqdm\n",
    "import requests as req\n",
    "import pandas as pd"
   ]
  },
  {
   "cell_type": "code",
   "execution_count": null,
   "metadata": {},
   "outputs": [],
   "source": [
    "#Specify/Initialize the language and create a directory for it\n",
    "language = 'Java'\n",
    "target_dir = \"F:\\\\Dataset\\\\repo\"\n",
    "\n",
    "if not os.path.exists(target_dir + \"\\\\\" + language):\n",
    "    os.mkdir(target_dir + \"\\\\\" + language)"
   ]
  },
  {
   "cell_type": "markdown",
   "metadata": {},
   "source": [
    "This fetches 300 projects and the respective star counts for the langage.\n",
    "This is respectively stored in different csv files in the languages' respective sub-directories."
   ]
  },
  {
   "cell_type": "code",
   "execution_count": null,
   "metadata": {},
   "outputs": [],
   "source": [
    "#Fetch the first 300 projects names and stars\n",
    "repo_count = 300\n",
    "client_id = \"Iv1.856cee3a06bc1210\"\n",
    "client_secret = \"c273719f59baad59f389383473ab9eac34d6b61b\"\n",
    "\n",
    "folder = {'project_name': [], 'star_count': []}\n",
    "    row = req.get('https://api.github.com/search/repositories?q=language:'+req.compat.quote_plus(str(language))+'&sort=stars&order=desc&per_page='+str(repo_count)+'&client_id='+str(client_id)+'&client_secret='+str(client_secret))\n",
    "    #Check how the first element looks like\n",
    "    print(row.json()['items'][0])\n",
    "    \n",
    "    for obj in row.json()['items']:\n",
    "        try:\n",
    "            folder['project_name'].append(str(obj['full_name']))\n",
    "            folder['star_count'].append(str(obj['stargazers_count']))\n",
    "        except:\n",
    "            print(\"Could not find a star count\")\n",
    "            \n",
    "        pd.DataFrame(data=folder).to_csv(target_dir + \"\\\\\" + language + \"\\\\\" + str(language)+'.csv', index=False)    \n"
   ]
  },
  {
   "cell_type": "code",
   "execution_count": null,
   "metadata": {},
   "outputs": [],
   "source": [
    "#Merging the language and projects (This makes sense when theere are more than one language)\n",
    "project_info = {'Language': [], 'Projects': []}\n",
    "try:\n",
    "    temp = pd.read_csv(target_dir + \"\\\\\" + language + \"\\\\\" + str(language)+'.csv')\n",
    "    project_info['Language'].append(language)\n",
    "    project_info['Projects'].append(' , '.join(temp[:10].values[:,0]))\n",
    "except:\n",
    "    print(\"I could not get it done, buddy!\")\n",
    "    \n",
    "#Show the head\n",
    "pd.DataFrame(data=project_info).head()"
   ]
  },
  {
   "cell_type": "code",
   "execution_count": null,
   "metadata": {},
   "outputs": [],
   "source": [
    "#Save the Java projects in a CSV file\n",
    "java_projects = target_dir + \"\\\\\" + language + 'javarepo.csv'\n",
    "\n",
    "pd.DataFrame(data=project_info).to_csv(java_projects,index=False)"
   ]
  },
  {
   "cell_type": "code",
   "execution_count": null,
   "metadata": {},
   "outputs": [],
   "source": []
  },
  {
   "cell_type": "code",
   "execution_count": null,
   "metadata": {},
   "outputs": [],
   "source": []
  }
 ],
 "metadata": {
  "kernelspec": {
   "display_name": "Python 3",
   "language": "python",
   "name": "python3"
  },
  "language_info": {
   "codemirror_mode": {
    "name": "ipython",
    "version": 3
   },
   "file_extension": ".py",
   "mimetype": "text/x-python",
   "name": "python",
   "nbconvert_exporter": "python",
   "pygments_lexer": "ipython3",
   "version": "3.7.9"
  }
 },
 "nbformat": 4,
 "nbformat_minor": 4
}
