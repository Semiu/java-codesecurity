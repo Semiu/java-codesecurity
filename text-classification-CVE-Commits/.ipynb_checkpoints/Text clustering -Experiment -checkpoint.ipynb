{
 "cells": [
  {
   "cell_type": "code",
   "execution_count": 173,
   "id": "attempted-guide",
   "metadata": {},
   "outputs": [
    {
     "name": "stderr",
     "output_type": "stream",
     "text": [
      "[nltk_data] Downloading package punkt to\n",
      "[nltk_data]     C:\\Users\\Semiu\\AppData\\Roaming\\nltk_data...\n",
      "[nltk_data]   Package punkt is already up-to-date!\n"
     ]
    }
   ],
   "source": [
    "#Import the libraries\n",
    "from sklearn.feature_extraction.text import TfidfVectorizer\n",
    "from sklearn.cluster import KMeans\n",
    "from sklearn import metrics\n",
    "from nltk.stem import WordNetLemmatizer\n",
    "\n",
    "import numpy as np\n",
    "import pandas as pd\n",
    "import seaborn as sns\n",
    "import spacy\n",
    "import nltk\n",
    "import string\n",
    "nltk.download('punkt')\n",
    "import matplotlib.pyplot as plt"
   ]
  },
  {
   "cell_type": "code",
   "execution_count": 174,
   "id": "compliant-district",
   "metadata": {},
   "outputs": [],
   "source": [
    "#Initialize WordNetLemmatizer\n",
    "wordnet_lemmatizer = WordNetLemmatizer()"
   ]
  },
  {
   "cell_type": "code",
   "execution_count": 175,
   "id": "neutral-israeli",
   "metadata": {},
   "outputs": [],
   "source": [
    "#Function to extract the text (CVE descriptions)\n",
    "def extract_text_corpus():\n",
    "    \n",
    "    cve_text_corpus = []\n",
    "    \n",
    "    java_cve_text = pd.read_csv(\"C:\\\\Users\\\\Semiu\\\\Documents\\\\java-codesecurity\\\\JavaVulData\\\\JavaVulData.csv\")\n",
    "    \n",
    "    for cve in java_cve_text['vulnerability_description']:\n",
    "        cve_text_corpus.append(cve)\n",
    "        \n",
    "    return cve_text_corpus"
   ]
  },
  {
   "cell_type": "code",
   "execution_count": 176,
   "id": "experimental-allah",
   "metadata": {},
   "outputs": [],
   "source": [
    "#extract_text_corpus return list to a variable\n",
    "list_of_CVEs = extract_text_corpus()"
   ]
  },
  {
   "cell_type": "code",
   "execution_count": 177,
   "id": "finnish-grade",
   "metadata": {},
   "outputs": [],
   "source": [
    "#Create stop words from fundamental English stop words\n",
    "stopwords = set(w.rstrip() for w in open(r'C:\\Users\\Semiu\\Documents\\java-codesecurity\\text-classification-CVE-Commits\\stopwords.txt'))\n",
    "\n",
    "# Add more stopwords specific to this problem - as seen in the raw data\n",
    "#This was iterately expanded\n",
    "stopwords = stopwords.union({\n",
    "    'java', 'se', 'vulnerability', 'sdk', 'remote', 'oracle', 'database', 'server', 'attacker', 'sap', 'netweaver', 'android',\n",
    "'ibm', 'embedded', 'product', 'solution', 'manager', 'xstream', 'allows', 'an', 'unauthenticated', 'component', 'issue',\n",
    "'discovered', 'noise', 'apache', 'xwiki', 'junit', 'discovered', 'unsafe', 'code', 'netscape', 'microsoft', 'machine', 'virtual',\n",
    "'bea', 'navigator', 'serversocket', 'weblogic', 'vm', 'development', 'kit', 'jre', 'unspecified', 'unknown', 'sun', 'runtime', \n",
    "'environment', 'and', '2d', 'web', 'confidentiality', 'integrity', 'unknown', 'vectors', 'products', 'suite', 'in', 'the', 'availability',\n",
    "'update', 'mobile', 'cicso', 'mobility', 'tomcat', 'update', 'in', 'earlier', 'openjdk', 'red', 'hat', 'related', 'postgresql', 'netflix',\n",
    "'issue','deployment', 'attack', 'version', 'compromise', 'i', 'sandbox', 'sandboxed', 'this', 'result', 'affect', 'via', '',\n",
    "'security', 'service', 'refresh', 'internet', 'access', 'vector'})"
   ]
  },
  {
   "cell_type": "code",
   "execution_count": 178,
   "id": "abandoned-special",
   "metadata": {},
   "outputs": [],
   "source": [
    "#Tokenization function\n",
    "def my_tokenizer(s):\n",
    "    s = s.lower() # downcase\n",
    "    tokens = nltk.tokenize.word_tokenize(s) # split string into words (tokens)\n",
    "    tokens = [t for t in tokens if len(t) > 2 or len(t)==1]   # remove short words, they're probably not useful\n",
    "    tokens = [wordnet_lemmatizer.lemmatize(t) for t in tokens] # put words into base form\n",
    "    tokens = [t for t in tokens if t not in stopwords] # remove stopwords\n",
    "    tokens = [t for t in tokens if not any(c.isdigit() for c in t)] # remove any digits, i.e. \"7.0\"\n",
    "    return tokens"
   ]
  },
  {
   "cell_type": "code",
   "execution_count": 179,
   "id": "stock-hundred",
   "metadata": {},
   "outputs": [],
   "source": [
    "#Tokenize each of the CVEs in the list_of_CVEs\n",
    "def cve_to_tokens():\n",
    "    all_tokens = []\n",
    "    for java_cve in list_of_CVEs:\n",
    "        try:\n",
    "            java_cve = java_cve.encode('ascii', 'ignore') # this will throw exception if bad characters\n",
    "            java_cve = java_cve.decode('utf-8')\n",
    "            tokens = my_tokenizer(java_cve) #Call the my_tokenizer function for each cve in the list_of_CVEs\n",
    "            all_tokens.append(tokens)\n",
    "        except Exception as e:\n",
    "            print(e)\n",
    "    return all_tokens"
   ]
  },
  {
   "cell_type": "code",
   "execution_count": 180,
   "id": "optimum-shannon",
   "metadata": {},
   "outputs": [],
   "source": [
    "list_of_tokens = cve_to_tokens()"
   ]
  },
  {
   "cell_type": "code",
   "execution_count": null,
   "id": "covered-calibration",
   "metadata": {},
   "outputs": [],
   "source": []
  },
  {
   "cell_type": "code",
   "execution_count": 181,
   "id": "dental-bristol",
   "metadata": {},
   "outputs": [],
   "source": [
    "new_sentence = []\n",
    "for token_list in list_of_tokens:\n",
    "    concatenate_token = \" \"\n",
    "    for token in token_list:\n",
    "        concatenate_token += \" \" +token\n",
    "    new_sentence.append(concatenate_token)"
   ]
  },
  {
   "cell_type": "code",
   "execution_count": 182,
   "id": "happy-paste",
   "metadata": {},
   "outputs": [],
   "source": [
    "#Function to concantenate the list of CVE to a string\n",
    "def concatenate_cve (new_sentence):\n",
    "    concatenated_cve = \" \"\n",
    "    for cve in new_sentence:\n",
    "        concatenated_cve += \" \" +cve\n",
    "    return concatenated_cve"
   ]
  },
  {
   "cell_type": "code",
   "execution_count": 183,
   "id": "spoken-valentine",
   "metadata": {},
   "outputs": [],
   "source": [
    "# Load English tokenizer, tagger, parser and NER\n",
    "nlp = spacy.load(\"en_core_web_sm\")\n",
    "\n",
    "# Process the pre-processed document\n",
    "text = (concatenate_cve (new_sentence))\n",
    "doc = nlp(text)\n",
    "\n",
    "# Analyze syntax\n",
    "vulnerability_phrases = [chunk.text for chunk in doc.noun_chunks]"
   ]
  },
  {
   "cell_type": "code",
   "execution_count": null,
   "id": "facial-revision",
   "metadata": {},
   "outputs": [],
   "source": [
    "\n"
   ]
  },
  {
   "cell_type": "code",
   "execution_count": 184,
   "id": "latin-switzerland",
   "metadata": {},
   "outputs": [],
   "source": [
    "#Convert the vulnerabilities phrases/entities to data frame\n",
    "vul_phrases_df = pd.DataFrame(vulnerability_phrases,columns=[\"vulnerability_phrases\"])"
   ]
  },
  {
   "cell_type": "code",
   "execution_count": 185,
   "id": "brilliant-mouth",
   "metadata": {},
   "outputs": [
    {
     "name": "stderr",
     "output_type": "stream",
     "text": [
      "C:\\Users\\Semiu\\Anaconda3\\lib\\site-packages\\seaborn\\_decorators.py:43: FutureWarning: Pass the following variables as keyword args: x, y. From version 0.12, the only valid positional argument will be `data`, and passing other arguments without an explicit keyword will result in an error or misinterpretation.\n",
      "  FutureWarning\n"
     ]
    },
    {
     "data": {
      "image/png": "[encoded data removed]",
      "text/plain": [
       "<Figure size 576x288 with 1 Axes>"
      ]
     },
     "metadata": {
      "needs_background": "light"
     },
     "output_type": "display_data"
    }
   ],
   "source": [
    "# Top 5 vulnerabilities phrases\n",
    "fig, ax = plt.subplots(figsize = (8,4))\n",
    "sns.barplot(vul_phrases_df['vulnerability_phrases'].value_counts()[1:5].values, vul_phrases_df['vulnerability_phrases'].value_counts()[1:5].index, palette=('magma'));\n",
    "# customization\n",
    "plt.xlabel('Vulnerabilities Phrases',fontsize=12)\n",
    "plt.xticks(size=12)\n",
    "plt.yticks(size=12)\n",
    "plt.title('Top 5 most Vulnerabilities phrases',size=14)\n",
    "plt.show();"
   ]
  },
  {
   "cell_type": "code",
   "execution_count": null,
   "id": "distinct-oriental",
   "metadata": {},
   "outputs": [],
   "source": []
  },
  {
   "cell_type": "code",
   "execution_count": null,
   "id": "about-inside",
   "metadata": {},
   "outputs": [],
   "source": []
  },
  {
   "cell_type": "code",
   "execution_count": null,
   "id": "administrative-secretary",
   "metadata": {},
   "outputs": [],
   "source": []
  },
  {
   "cell_type": "code",
   "execution_count": null,
   "id": "suburban-passage",
   "metadata": {},
   "outputs": [],
   "source": []
  },
  {
   "cell_type": "code",
   "execution_count": null,
   "id": "difficult-greensboro",
   "metadata": {},
   "outputs": [],
   "source": []
  },
  {
   "cell_type": "code",
   "execution_count": null,
   "id": "accepted-concern",
   "metadata": {},
   "outputs": [],
   "source": []
  },
  {
   "cell_type": "code",
   "execution_count": null,
   "id": "light-remains",
   "metadata": {},
   "outputs": [],
   "source": [
    "#Initialize a vectorizer from the TFIDF\n",
    "vectorizer = TfidfVectorizer(stop_words='english')\n",
    "\n",
    "vectorized_corpus = vectorizer.fit_transform(extract_text_corpus())"
   ]
  },
  {
   "cell_type": "code",
   "execution_count": null,
   "id": "bottom-importance",
   "metadata": {},
   "outputs": [],
   "source": []
  }
 ],
 "metadata": {
  "kernelspec": {
   "display_name": "Python 3",
   "language": "python",
   "name": "python3"
  },
  "language_info": {
   "codemirror_mode": {
    "name": "ipython",
    "version": 3
   },
   "file_extension": ".py",
   "mimetype": "text/x-python",
   "name": "python",
   "nbconvert_exporter": "python",
   "pygments_lexer": "ipython3",
   "version": "3.7.9"
  }
 },
 "nbformat": 4,
 "nbformat_minor": 5
}
