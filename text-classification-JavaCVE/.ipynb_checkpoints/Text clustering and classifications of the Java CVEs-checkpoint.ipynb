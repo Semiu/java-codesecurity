{
 "cells": [
  {
   "cell_type": "markdown",
   "metadata": {},
   "source": [
    "This script performs clustering on the scraped data of Java CVE descriptions done [here](https://github.com/Semiu/java-codesecurity/blob/main/data-scraping-curating/Java%20CVEs%20from%20the%20National%20Vulnerabilities%20Database.ipynb).\n",
    "\n",
    "It aims to identify core categories of Java CVEs as found in the National Vulnerabilities Database."
   ]
  },
  {
   "cell_type": "code",
   "execution_count": 1,
   "metadata": {},
   "outputs": [],
   "source": [
    "#Import the libraries\n",
    "from sklearn.feature_extraction.text import TfidfVectorizer\n",
    "from sklearn.cluster import KMeans\n",
    "from sklearn import metrics\n",
    "#from scipy.spatial.distance import cdist\n",
    "\n",
    "import numpy as np\n",
    "import os\n",
    "import pandas as pd\n",
    "import seaborn as sns\n",
    "import spacy\n",
    "import matplotlib.pyplot as plt"
   ]
  },
  {
   "cell_type": "code",
   "execution_count": 2,
   "metadata": {},
   "outputs": [],
   "source": []
  },
  {
   "cell_type": "code",
   "execution_count": 3,
   "metadata": {},
   "outputs": [],
   "source": [
    "#Function to extract the text (CVE descriptions)\n",
    "def extract_text_corpus():\n",
    "    \n",
    "    cve_text_corpus = []\n",
    "    \n",
    "    java_cve_text = pd.read_csv(\"C:\\\\Users\\\\Semiu\\\\Documents\\\\java-codesecurity\\\\JavaVulData\\\\JavaVulData.csv\")\n",
    "    \n",
    "    for cve in java_cve_text['vulnerability_description']:\n",
    "        cve_text_corpus.append(cve)\n",
    "        \n",
    "    return cve_text_corpus"
   ]
  },
  {
   "cell_type": "code",
   "execution_count": 4,
   "metadata": {},
   "outputs": [],
   "source": [
    "#Initialize a vectorizer from the TFIDF\n",
    "vectorizer = TfidfVectorizer(stop_words='english')\n",
    "\n",
    "#The vectorized corpus takes the extract_text_corpus as an argument\n",
    "vectorized_corpus = vectorizer.fit_transform(extract_text_corpus())"
   ]
  },
  {
   "cell_type": "code",
   "execution_count": 15,
   "metadata": {},
   "outputs": [],
   "source": [
    "#The K-Means algorithm for clustering\n",
    "#Determining the optimal number of clusters using the Elbow Method with Inertia\n",
    "inertias = []\n",
    "mapping = {}\n",
    "\n",
    "no_of_clusters = range(1, 12)\n",
    " \n",
    "for cluster in no_of_clusters:\n",
    "    \n",
    "    model = KMeans(n_clusters = cluster, init = 'k-means++', max_iter = 100, n_init = 1)\n",
    "    \n",
    "    #Fit the model with the vectorized corpus\n",
    "    model.fit(vectorized_corpus)\n",
    "    \n",
    "    #Append the model inertia values\n",
    "    inertias.append(model.inertia_)\n",
    "    \n",
    "    #Map the cluster with the model inertia values   \n",
    "    mapping[cluster] = model.inertia_"
   ]
  },
  {
   "cell_type": "code",
   "execution_count": 16,
   "metadata": {},
   "outputs": [
    {
     "name": "stdout",
     "output_type": "stream",
     "text": [
      "1 : 2051.505689665938\n",
      "2 : 1967.920485656715\n",
      "3 : 1860.5158075388065\n",
      "4 : 1826.4438538464099\n",
      "5 : 1808.5190589035105\n",
      "6 : 1799.1181998177863\n",
      "7 : 1787.2046674801052\n",
      "8 : 1770.7445636882453\n",
      "9 : 1741.530543187263\n",
      "10 : 1736.7718740524365\n",
      "11 : 1722.3019054156887\n"
     ]
    }
   ],
   "source": [
    "for key, val in mapping.items():\n",
    "    print(f'{key} : {val}')"
   ]
  },
  {
   "cell_type": "code",
   "execution_count": 18,
   "metadata": {},
   "outputs": [
    {
     "data": {
      "image/png": "[encoded data removed]",
      "text/plain": [
       "<Figure size 432x288 with 1 Axes>"
      ]
     },
     "metadata": {
      "needs_background": "light"
     },
     "output_type": "display_data"
    }
   ],
   "source": [
    "#Plotting the Elbow method using Inertia\n",
    "plt.plot(no_of_clusters, inertias, 'bx-')\n",
    "plt.xlabel('Number of clusters')\n",
    "plt.ylabel('Inertia')\n",
    "plt.title('The Elbow Method using Inertia')\n",
    "plt.show()\n",
    "#The plot suggests 3 or 4 as the optimal number of clusters in the corpus"
   ]
  },
  {
   "cell_type": "code",
   "execution_count": 17,
   "metadata": {},
   "outputs": [],
   "source": [
    "#When n_clusters = 3\n",
    "model = KMeans(n_clusters = 3, init = 'k-means++', max_iter = 100, n_init = 1)\n",
    "    \n",
    "#Fit the model with the vectorized corpus\n",
    "model.fit(vectorized_corpus)"
   ]
  },
  {
   "cell_type": "code",
   "execution_count": null,
   "metadata": {},
   "outputs": [],
   "source": [
    "order_centroids = model.cluster_centers_.argsort()[:, ::-1]\n",
    "terms = vectorizer.get_feature_names()"
   ]
  },
  {
   "cell_type": "code",
   "execution_count": null,
   "metadata": {},
   "outputs": [],
   "source": [
    "for cluster in range(4):\n",
    "    print(\"Cluster %d:\" %cluster)\n",
    "    \n",
    "    for ind in order_centroids[cluster, :20]:\n",
    "        print('%s' %terms[ind])"
   ]
  },
  {
   "cell_type": "code",
   "execution_count": null,
   "metadata": {},
   "outputs": [],
   "source": [
    "#When n_clusters = 4\n",
    "model = KMeans(n_clusters = 4, init = 'k-means++', max_iter = 100, n_init = 1)\n",
    "    \n",
    "#Fit the model with the vectorized corpus\n",
    "model.fit(vectorized_corpus)"
   ]
  },
  {
   "cell_type": "code",
   "execution_count": null,
   "metadata": {},
   "outputs": [],
   "source": [
    "#When n_clusters = 4\n",
    "order_centroids = model.cluster_centers_.argsort()[:, ::-1]\n",
    "terms = vectorizer.get_feature_names()"
   ]
  },
  {
   "cell_type": "code",
   "execution_count": 18,
   "metadata": {},
   "outputs": [
    {
     "name": "stdout",
     "output_type": "stream",
     "text": [
      "Cluster 0:\n",
      "jre\n",
      "jdk\n",
      "earlier\n",
      "update\n",
      "sdk\n",
      "sun\n",
      "environment\n",
      "runtime\n",
      "java\n",
      "aka\n",
      "Cluster 1:\n",
      "oracle\n",
      "affect\n",
      "se\n",
      "vectors\n",
      "unspecified\n",
      "unknown\n",
      "related\n",
      "confidentiality\n",
      "vulnerability\n",
      "integrity\n",
      "Cluster 2:\n",
      "jenkins\n",
      "xml\n",
      "main\n",
      "src\n",
      "entity\n",
      "external\n",
      "plugins\n",
      "java\n",
      "exists\n",
      "xxe\n",
      "Cluster 3:\n",
      "service\n",
      "denial\n",
      "cause\n",
      "crash\n",
      "sap\n",
      "server\n",
      "java\n",
      "attackers\n",
      "remote\n",
      "allows\n",
      "Cluster 4:\n",
      "se\n",
      "java\n",
      "cvss\n",
      "embedded\n",
      "sandboxed\n",
      "vulnerability\n",
      "attacks\n",
      "code\n",
      "successful\n",
      "access\n",
      "Cluster 5:\n",
      "xss\n",
      "cross\n",
      "scripting\n",
      "site\n",
      "script\n",
      "html\n",
      "inject\n",
      "web\n",
      "arbitrary\n",
      "sun\n",
      "Cluster 6:\n",
      "cve\n",
      "2014\n",
      "7u51\n",
      "se\n",
      "vulnerability\n",
      "affect\n",
      "different\n",
      "oracle\n",
      "vectors\n",
      "related\n",
      "Cluster 7:\n",
      "java\n",
      "server\n",
      "arbitrary\n",
      "remote\n",
      "allows\n",
      "attackers\n",
      "execute\n",
      "code\n",
      "application\n",
      "sun\n",
      "Cluster 8:\n",
      "earlier\n",
      "update\n",
      "java\n",
      "se\n",
      "environment\n",
      "runtime\n",
      "related\n",
      "jre\n",
      "affect\n",
      "oracle\n",
      "Cluster 9:\n",
      "apache\n",
      "serialized\n",
      "code\n",
      "object\n",
      "arbitrary\n",
      "execute\n",
      "deserialization\n",
      "crafted\n",
      "execution\n",
      "java\n"
     ]
    }
   ],
   "source": [
    "#When n_clusters = 4\n",
    "for cluster in range(5):\n",
    "    print(\"Cluster %d:\" %cluster)\n",
    "    \n",
    "    for ind in order_centroids[cluster, :10]:\n",
    "        print('%s' %terms[ind])"
   ]
  },
  {
   "cell_type": "code",
   "execution_count": 5,
   "metadata": {},
   "outputs": [],
   "source": [
    "#Get the function's return value into a variable\n",
    "list_of_cve = extract_text_corpus()"
   ]
  },
  {
   "cell_type": "code",
   "execution_count": 6,
   "metadata": {},
   "outputs": [],
   "source": [
    "#Function to concantenate the list of CVE to a string\n",
    "def concatenate_cve (list_of_cve):\n",
    "    concatenated_cve = \"\"\n",
    "    for cve in list_of_cve:\n",
    "        concatenated_cve += cve\n",
    "    return concatenated_cve"
   ]
  },
  {
   "cell_type": "code",
   "execution_count": 33,
   "metadata": {},
   "outputs": [
    {
     "data": {
      "text/plain": [
       "'\\nfor entity in doc.ents:\\n    print(entity.text, entity.label_)\\n\\n'"
      ]
     },
     "execution_count": 33,
     "metadata": {},
     "output_type": "execute_result"
    }
   ],
   "source": [
    "# Load English tokenizer, tagger, parser and NER\n",
    "nlp = spacy.load(\"en_core_web_sm\")\n",
    "\n",
    "# Process whole documents\n",
    "text = (concatenate_cve (list_of_cve))\n",
    "doc = nlp(text)\n",
    "\n",
    "# Analyze syntax\n",
    "vulnerability_phrases = [chunk.text for chunk in doc.noun_chunks]\n"
   ]
  },
  {
   "cell_type": "code",
   "execution_count": 35,
   "metadata": {},
   "outputs": [],
   "source": [
    "vul_phrases_df = pd.DataFrame(vulnerability_phrases,columns=[\"vulnerability_phrases\"])"
   ]
  },
  {
   "cell_type": "code",
   "execution_count": 42,
   "metadata": {},
   "outputs": [
    {
     "name": "stderr",
     "output_type": "stream",
     "text": [
      "C:\\Users\\Semiu\\Anaconda3\\lib\\site-packages\\seaborn\\_decorators.py:43: FutureWarning: Pass the following variables as keyword args: x, y. From version 0.12, the only valid positional argument will be `data`, and passing other arguments without an explicit keyword will result in an error or misinterpretation.\n",
      "  FutureWarning\n"
     ]
    },
    {
     "data": {
      "image/png": "[encoded data removed]",
      "text/plain": [
       "<Figure size 576x288 with 1 Axes>"
      ]
     },
     "metadata": {
      "needs_background": "light"
     },
     "output_type": "display_data"
    }
   ],
   "source": [
    "# Top 5 vulnerabilities phrases\n",
    "fig, ax = plt.subplots(figsize = (8,4))\n",
    "sns.barplot(vul_phrases_df['vulnerability_phrases'].value_counts()[1:6].values, vul_phrases_df['vulnerability_phrases'].value_counts()[1:6].index, palette=('magma'));\n",
    "# customization\n",
    "plt.xlabel('Vulnerabilities Phrases',fontsize=12)\n",
    "plt.xticks(size=12)\n",
    "plt.yticks(size=12)\n",
    "plt.title('Top 5 most Vulnerabilities phrases',size=14)\n",
    "plt.show();"
   ]
  },
  {
   "cell_type": "code",
   "execution_count": null,
   "metadata": {},
   "outputs": [],
   "source": [
    "# Top 10 vulnerabilities phrases\n",
    "fig, ax = plt.subplots(figsize = (8,4))\n",
    "sns.barplot(vul_phrases_df['vulnerability_phrases'].value_counts()[1:11].values, vul_phrases_df['vulnerability_phrases'].value_counts()[1:11].index, palette=('magma'));\n",
    "# customization\n",
    "plt.xlabel('Vulnerabilities Phrases',fontsize=12)\n",
    "plt.xticks(size=12)\n",
    "plt.yticks(size=12)\n",
    "plt.title('Top 10 most Vulnerabilities phrases',size=14)\n",
    "plt.show();"
   ]
  }
 ],
 "metadata": {
  "kernelspec": {
   "display_name": "Python 3",
   "language": "python",
   "name": "python3"
  },
  "language_info": {
   "codemirror_mode": {
    "name": "ipython",
    "version": 3
   },
   "file_extension": ".py",
   "mimetype": "text/x-python",
   "name": "python",
   "nbconvert_exporter": "python",
   "pygments_lexer": "ipython3",
   "version": "3.7.9"
  }
 },
 "nbformat": 4,
 "nbformat_minor": 4
}
