{
 "cells": [
  {
   "cell_type": "markdown",
   "metadata": {},
   "source": [
    "This script performs clustering on the scraped data of Java CVE descriptions done [here](https://github.com/Semiu/java-codesecurity/blob/main/data-scraping-curating/Java%20CVEs%20from%20the%20National%20Vulnerabilities%20Database.ipynb).\n",
    "\n",
    "It aims to identify core categories of Java CVEs as found in the National Vulnerabilities Database."
   ]
  },
  {
   "cell_type": "code",
   "execution_count": 37,
   "metadata": {},
   "outputs": [],
   "source": [
    "#Import the libraries\n",
    "from sklearn.feature_extraction.text import TfidfVectorizer\n",
    "from sklearn.cluster import KMeans\n",
    "import numpy as np\n",
    "import pandas as pd\n",
    "from sklearn import metrics\n",
    "from scipy.spatial.distance import cdist\n",
    "\n",
    "import matplotlib.pyplot as plt\n"
   ]
  },
  {
   "cell_type": "code",
   "execution_count": 38,
   "metadata": {},
   "outputs": [],
   "source": [
    "#Function to extract the text (CVE descriptions)\n",
    "def extract_text_corpus():\n",
    "    \n",
    "    cve_text_corpus = []\n",
    "    \n",
    "    java_cve_text = pd.read_csv(\"C:\\\\Users\\\\Semiu\\\\Documents\\\\java-codesecurity\\\\JavaVulData\\\\JavaVulData.csv\")\n",
    "    \n",
    "    for cve in java_cve_text['vulnerability_description']:\n",
    "        cve_text_corpus.append(cve)\n",
    "        \n",
    "    return cve_text_corpus"
   ]
  },
  {
   "cell_type": "code",
   "execution_count": 39,
   "metadata": {},
   "outputs": [],
   "source": [
    "#Initialize a vectorizer from the TFIDF\n",
    "vectorizer = TfidfVectorizer(stop_words='english')\n",
    "\n",
    "#The vectorized corpus takes the extract_text_corpus as an argument\n",
    "vectorized_corpus = vectorizer.fit_transform(extract_text_corpus())"
   ]
  },
  {
   "cell_type": "code",
   "execution_count": 40,
   "metadata": {},
   "outputs": [],
   "source": [
    "vectorized_corpus = vectorized_corpus.reshape(-1,1)"
   ]
  },
  {
   "cell_type": "code",
   "execution_count": 41,
   "metadata": {},
   "outputs": [
    {
     "ename": "ValueError",
     "evalue": "XA must be a 2-dimensional array.",
     "output_type": "error",
     "traceback": [
      "\u001b[1;31m---------------------------------------------------------------------------\u001b[0m",
      "\u001b[1;31mValueError\u001b[0m                                Traceback (most recent call last)",
      "\u001b[1;32m<ipython-input-41-d002771275f3>\u001b[0m in \u001b[0;36m<module>\u001b[1;34m\u001b[0m\n\u001b[0;32m     18\u001b[0m     \u001b[0mmodel\u001b[0m\u001b[1;33m.\u001b[0m\u001b[0mfit\u001b[0m\u001b[1;33m(\u001b[0m\u001b[0mvectorized_corpus\u001b[0m\u001b[1;33m)\u001b[0m\u001b[1;33m\u001b[0m\u001b[1;33m\u001b[0m\u001b[0m\n\u001b[0;32m     19\u001b[0m \u001b[1;33m\u001b[0m\u001b[0m\n\u001b[1;32m---> 20\u001b[1;33m     \u001b[0mdistortions\u001b[0m\u001b[1;33m.\u001b[0m\u001b[0mappend\u001b[0m\u001b[1;33m(\u001b[0m\u001b[0msum\u001b[0m\u001b[1;33m(\u001b[0m\u001b[0mnp\u001b[0m\u001b[1;33m.\u001b[0m\u001b[0mmin\u001b[0m\u001b[1;33m(\u001b[0m\u001b[0mcdist\u001b[0m\u001b[1;33m(\u001b[0m\u001b[0mvectorized_corpus\u001b[0m\u001b[1;33m,\u001b[0m \u001b[0mmodel\u001b[0m\u001b[1;33m.\u001b[0m\u001b[0mcluster_centers_\u001b[0m\u001b[1;33m,\u001b[0m\u001b[1;34m'euclidean'\u001b[0m\u001b[1;33m)\u001b[0m\u001b[1;33m,\u001b[0m \u001b[0maxis\u001b[0m\u001b[1;33m=\u001b[0m\u001b[1;36m1\u001b[0m\u001b[1;33m)\u001b[0m\u001b[1;33m)\u001b[0m \u001b[1;33m/\u001b[0m \u001b[0mvectorized_corpus\u001b[0m\u001b[1;33m.\u001b[0m\u001b[0mshape\u001b[0m\u001b[1;33m[\u001b[0m\u001b[1;36m0\u001b[0m\u001b[1;33m]\u001b[0m\u001b[1;33m)\u001b[0m\u001b[1;33m\u001b[0m\u001b[1;33m\u001b[0m\u001b[0m\n\u001b[0m\u001b[0;32m     21\u001b[0m \u001b[1;33m\u001b[0m\u001b[0m\n\u001b[0;32m     22\u001b[0m     \u001b[0minertias\u001b[0m\u001b[1;33m.\u001b[0m\u001b[0mappend\u001b[0m\u001b[1;33m(\u001b[0m\u001b[0mmodel\u001b[0m\u001b[1;33m.\u001b[0m\u001b[0minertia_\u001b[0m\u001b[1;33m)\u001b[0m\u001b[1;33m\u001b[0m\u001b[1;33m\u001b[0m\u001b[0m\n",
      "\u001b[1;32m~\\Anaconda3\\lib\\site-packages\\scipy\\spatial\\distance.py\u001b[0m in \u001b[0;36mcdist\u001b[1;34m(XA, XB, metric, *args, **kwargs)\u001b[0m\n\u001b[0;32m   2706\u001b[0m \u001b[1;33m\u001b[0m\u001b[0m\n\u001b[0;32m   2707\u001b[0m     \u001b[1;32mif\u001b[0m \u001b[0mlen\u001b[0m\u001b[1;33m(\u001b[0m\u001b[0ms\u001b[0m\u001b[1;33m)\u001b[0m \u001b[1;33m!=\u001b[0m \u001b[1;36m2\u001b[0m\u001b[1;33m:\u001b[0m\u001b[1;33m\u001b[0m\u001b[1;33m\u001b[0m\u001b[0m\n\u001b[1;32m-> 2708\u001b[1;33m         \u001b[1;32mraise\u001b[0m \u001b[0mValueError\u001b[0m\u001b[1;33m(\u001b[0m\u001b[1;34m'XA must be a 2-dimensional array.'\u001b[0m\u001b[1;33m)\u001b[0m\u001b[1;33m\u001b[0m\u001b[1;33m\u001b[0m\u001b[0m\n\u001b[0m\u001b[0;32m   2709\u001b[0m     \u001b[1;32mif\u001b[0m \u001b[0mlen\u001b[0m\u001b[1;33m(\u001b[0m\u001b[0msB\u001b[0m\u001b[1;33m)\u001b[0m \u001b[1;33m!=\u001b[0m \u001b[1;36m2\u001b[0m\u001b[1;33m:\u001b[0m\u001b[1;33m\u001b[0m\u001b[1;33m\u001b[0m\u001b[0m\n\u001b[0;32m   2710\u001b[0m         \u001b[1;32mraise\u001b[0m \u001b[0mValueError\u001b[0m\u001b[1;33m(\u001b[0m\u001b[1;34m'XB must be a 2-dimensional array.'\u001b[0m\u001b[1;33m)\u001b[0m\u001b[1;33m\u001b[0m\u001b[1;33m\u001b[0m\u001b[0m\n",
      "\u001b[1;31mValueError\u001b[0m: XA must be a 2-dimensional array."
     ]
    }
   ],
   "source": [
    "#The K-Means algorithm for clustering\n",
    "#no_of_clusters = 10 #Arbitrarily chosen to test\n",
    "\n",
    "distortions = []\n",
    "inertias = []\n",
    "mapping1 = {}\n",
    "mapping2 = {}\n",
    "\n",
    "K = range(1, 10)\n",
    " \n",
    "for k in K:\n",
    "    \n",
    "    model = KMeans(n_clusters = k, init = 'k-means++', max_iter = 100, n_init = 1)\n",
    "    \n",
    "    #model = KMeans(n_clusters=k).fit(vectorized_corpus)\n",
    "    \n",
    "    #Fit the model with the viectorized corpus\n",
    "    model.fit(vectorized_corpus)\n",
    "    \n",
    "    distortions.append(sum(np.min(cdist(vectorized_corpus, model.cluster_centers_,'euclidean'), axis=1)) / vectorized_corpus.shape[0])\n",
    "    \n",
    "    inertias.append(model.inertia_)\n",
    " \n",
    "    mapping1[k] = sum(np.min(cdist(vectorized_corpus, model.cluster_centers_,'euclidean'), axis=1)) / vectorized_corpus.shape[0]\n",
    "    \n",
    "    mapping2[k] = model.inertia_"
   ]
  },
  {
   "cell_type": "code",
   "execution_count": null,
   "metadata": {},
   "outputs": [],
   "source": [
    "\n",
    "for key, val in mapping1.items():\n",
    "    print(f'{key} : {val}')\n"
   ]
  },
  {
   "cell_type": "code",
   "execution_count": null,
   "metadata": {},
   "outputs": [],
   "source": [
    "\n",
    "plt.plot(K, distortions, 'bx-')\n",
    "plt.xlabel('Values of K')\n",
    "plt.ylabel('Distortion')\n",
    "plt.title('The Elbow Method using Distortion')\n",
    "plt.show()\n"
   ]
  },
  {
   "cell_type": "code",
   "execution_count": null,
   "metadata": {},
   "outputs": [],
   "source": [
    "\n",
    "for key, val in mapping2.items():\n",
    "    print(f'{key} : {val}')\n"
   ]
  },
  {
   "cell_type": "code",
   "execution_count": null,
   "metadata": {},
   "outputs": [],
   "source": [
    "\n",
    "plt.plot(K, inertias, 'bx-')\n",
    "plt.xlabel('Values of K')\n",
    "plt.ylabel('Inertia')\n",
    "plt.title('The Elbow Method using Inertia')\n",
    "plt.show()\n"
   ]
  },
  {
   "cell_type": "code",
   "execution_count": 17,
   "metadata": {},
   "outputs": [],
   "source": [
    "order_centroids = model.cluster_centers_.argsort()[:, ::-1]\n",
    "terms = vectorizer.get_feature_names()"
   ]
  },
  {
   "cell_type": "code",
   "execution_count": 18,
   "metadata": {},
   "outputs": [
    {
     "name": "stdout",
     "output_type": "stream",
     "text": [
      "Cluster 0:\n",
      "jre\n",
      "jdk\n",
      "earlier\n",
      "update\n",
      "sdk\n",
      "sun\n",
      "environment\n",
      "runtime\n",
      "java\n",
      "aka\n",
      "Cluster 1:\n",
      "oracle\n",
      "affect\n",
      "se\n",
      "vectors\n",
      "unspecified\n",
      "unknown\n",
      "related\n",
      "confidentiality\n",
      "vulnerability\n",
      "integrity\n",
      "Cluster 2:\n",
      "jenkins\n",
      "xml\n",
      "main\n",
      "src\n",
      "entity\n",
      "external\n",
      "plugins\n",
      "java\n",
      "exists\n",
      "xxe\n",
      "Cluster 3:\n",
      "service\n",
      "denial\n",
      "cause\n",
      "crash\n",
      "sap\n",
      "server\n",
      "java\n",
      "attackers\n",
      "remote\n",
      "allows\n",
      "Cluster 4:\n",
      "se\n",
      "java\n",
      "cvss\n",
      "embedded\n",
      "sandboxed\n",
      "vulnerability\n",
      "attacks\n",
      "code\n",
      "successful\n",
      "access\n",
      "Cluster 5:\n",
      "xss\n",
      "cross\n",
      "scripting\n",
      "site\n",
      "script\n",
      "html\n",
      "inject\n",
      "web\n",
      "arbitrary\n",
      "sun\n",
      "Cluster 6:\n",
      "cve\n",
      "2014\n",
      "7u51\n",
      "se\n",
      "vulnerability\n",
      "affect\n",
      "different\n",
      "oracle\n",
      "vectors\n",
      "related\n",
      "Cluster 7:\n",
      "java\n",
      "server\n",
      "arbitrary\n",
      "remote\n",
      "allows\n",
      "attackers\n",
      "execute\n",
      "code\n",
      "application\n",
      "sun\n",
      "Cluster 8:\n",
      "earlier\n",
      "update\n",
      "java\n",
      "se\n",
      "environment\n",
      "runtime\n",
      "related\n",
      "jre\n",
      "affect\n",
      "oracle\n",
      "Cluster 9:\n",
      "apache\n",
      "serialized\n",
      "code\n",
      "object\n",
      "arbitrary\n",
      "execute\n",
      "deserialization\n",
      "crafted\n",
      "execution\n",
      "java\n"
     ]
    }
   ],
   "source": [
    "for i in range(no_of_clusters):\n",
    "    print(\"Cluster %d:\" %i)\n",
    "    \n",
    "    for ind in order_centroids[i, :10]:\n",
    "        print('%s' %terms[ind])"
   ]
  },
  {
   "cell_type": "code",
   "execution_count": null,
   "metadata": {},
   "outputs": [],
   "source": []
  }
 ],
 "metadata": {
  "kernelspec": {
   "display_name": "Python 3",
   "language": "python",
   "name": "python3"
  },
  "language_info": {
   "codemirror_mode": {
    "name": "ipython",
    "version": 3
   },
   "file_extension": ".py",
   "mimetype": "text/x-python",
   "name": "python",
   "nbconvert_exporter": "python",
   "pygments_lexer": "ipython3",
   "version": "3.7.9"
  }
 },
 "nbformat": 4,
 "nbformat_minor": 4
}
