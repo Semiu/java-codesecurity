{
 "cells": [
  {
   "cell_type": "markdown",
   "metadata": {},
   "source": [
    "This script performs clustering on the scraped data of Java CVE descriptions done [here](https://github.com/Semiu/java-codesecurity/blob/main/data-scraping-curating/Java%20CVEs%20from%20the%20National%20Vulnerabilities%20Database.ipynb).\n",
    "\n",
    "It aims to identify core categories of Java CVEs as found in the National Vulnerabilities Database."
   ]
  },
  {
   "cell_type": "code",
   "execution_count": 25,
   "metadata": {},
   "outputs": [],
   "source": [
    "#Import the libraries\n",
    "from sklearn.feature_extraction.text import TfidfVectorizer\n",
    "from sklearn.cluster import KMeans\n",
    "import numpy as np\n",
    "import pandas as pd\n",
    "from sklearn import metrics\n",
    "from scipy.spatial.distance import cdist\n",
    "\n",
    "import matplotlib.pyplot as plt\n"
   ]
  },
  {
   "cell_type": "code",
   "execution_count": 26,
   "metadata": {},
   "outputs": [],
   "source": [
    "#Function to extract the text (CVE descriptions)\n",
    "def extract_text_corpus():\n",
    "    \n",
    "    cve_text_corpus = []\n",
    "    \n",
    "    java_cve_text = pd.read_csv(\"C:\\\\Users\\\\Semiu\\\\Documents\\\\java-codesecurity\\\\JavaVulData\\\\JavaVulData.csv\")\n",
    "    \n",
    "    for cve in java_cve_text['vulnerability_description']:\n",
    "        cve_text_corpus.append(cve)\n",
    "        \n",
    "    return cve_text_corpus"
   ]
  },
  {
   "cell_type": "code",
   "execution_count": 27,
   "metadata": {},
   "outputs": [],
   "source": [
    "#Initialize a vectorizer from the TFIDF\n",
    "vectorizer = TfidfVectorizer(stop_words='english')\n",
    "\n",
    "#The vectorized corpus takes the extract_text_corpus as an argument\n",
    "vectorized_corpus = vectorizer.fit_transform(extract_text_corpus())"
   ]
  },
  {
   "cell_type": "code",
   "execution_count": 15,
   "metadata": {},
   "outputs": [],
   "source": [
    "#The K-Means algorithm for clustering\n",
    "#Determining the optimal number of cluster using the Elbow Method with Inertia\n",
    "\n",
    "inertias = []\n",
    "mapping = {}\n",
    "\n",
    "no_of_clusters = range(1, 12)\n",
    " \n",
    "for cluster in no_of_clusters:\n",
    "    \n",
    "    model = KMeans(n_clusters = cluster, init = 'k-means++', max_iter = 100, n_init = 1)\n",
    "    \n",
    "    #Fit the model with the vectorized corpus\n",
    "    model.fit(vectorized_corpus)\n",
    "    \n",
    "    inertias.append(model.inertia_)\n",
    "   \n",
    "    mapping[cluster] = model.inertia_"
   ]
  },
  {
   "cell_type": "code",
   "execution_count": 16,
   "metadata": {},
   "outputs": [
    {
     "name": "stdout",
     "output_type": "stream",
     "text": [
      "1 : 2051.505689665938\n",
      "2 : 1967.920485656715\n",
      "3 : 1860.5158075388065\n",
      "4 : 1826.4438538464099\n",
      "5 : 1808.5190589035105\n",
      "6 : 1799.1181998177863\n",
      "7 : 1787.2046674801052\n",
      "8 : 1770.7445636882453\n",
      "9 : 1741.530543187263\n",
      "10 : 1736.7718740524365\n",
      "11 : 1722.3019054156887\n"
     ]
    }
   ],
   "source": [
    "for key, val in mapping.items():\n",
    "    print(f'{key} : {val}')\n"
   ]
  },
  {
   "cell_type": "code",
   "execution_count": 18,
   "metadata": {},
   "outputs": [
    {
     "data": {
      "image/png": "[encoded data removed]",
      "text/plain": [
       "<Figure size 432x288 with 1 Axes>"
      ]
     },
     "metadata": {
      "needs_background": "light"
     },
     "output_type": "display_data"
    }
   ],
   "source": [
    "#\n",
    "plt.plot(no_of_clusters, inertias, 'bx-')\n",
    "plt.xlabel('Values of no_of_clusters')\n",
    "plt.ylabel('Inertia')\n",
    "plt.title('The Elbow Method using Inertia')\n",
    "plt.show()\n"
   ]
  },
  {
   "cell_type": "code",
   "execution_count": 17,
   "metadata": {},
   "outputs": [],
   "source": []
  },
  {
   "cell_type": "code",
   "execution_count": null,
   "metadata": {},
   "outputs": [],
   "source": []
  },
  {
   "cell_type": "code",
   "execution_count": null,
   "metadata": {},
   "outputs": [],
   "source": []
  },
  {
   "cell_type": "code",
   "execution_count": null,
   "metadata": {},
   "outputs": [],
   "source": []
  },
  {
   "cell_type": "code",
   "execution_count": 29,
   "metadata": {},
   "outputs": [],
   "source": [
    "list_of_cve = extract_text_corpus()"
   ]
  },
  {
   "cell_type": "code",
   "execution_count": null,
   "metadata": {},
   "outputs": [],
   "source": [
    "order_centroids = model.cluster_centers_.argsort()[:, ::-1]\n",
    "terms = vectorizer.get_feature_names()"
   ]
  },
  {
   "cell_type": "code",
   "execution_count": 18,
   "metadata": {},
   "outputs": [
    {
     "name": "stdout",
     "output_type": "stream",
     "text": [
      "Cluster 0:\n",
      "jre\n",
      "jdk\n",
      "earlier\n",
      "update\n",
      "sdk\n",
      "sun\n",
      "environment\n",
      "runtime\n",
      "java\n",
      "aka\n",
      "Cluster 1:\n",
      "oracle\n",
      "affect\n",
      "se\n",
      "vectors\n",
      "unspecified\n",
      "unknown\n",
      "related\n",
      "confidentiality\n",
      "vulnerability\n",
      "integrity\n",
      "Cluster 2:\n",
      "jenkins\n",
      "xml\n",
      "main\n",
      "src\n",
      "entity\n",
      "external\n",
      "plugins\n",
      "java\n",
      "exists\n",
      "xxe\n",
      "Cluster 3:\n",
      "service\n",
      "denial\n",
      "cause\n",
      "crash\n",
      "sap\n",
      "server\n",
      "java\n",
      "attackers\n",
      "remote\n",
      "allows\n",
      "Cluster 4:\n",
      "se\n",
      "java\n",
      "cvss\n",
      "embedded\n",
      "sandboxed\n",
      "vulnerability\n",
      "attacks\n",
      "code\n",
      "successful\n",
      "access\n",
      "Cluster 5:\n",
      "xss\n",
      "cross\n",
      "scripting\n",
      "site\n",
      "script\n",
      "html\n",
      "inject\n",
      "web\n",
      "arbitrary\n",
      "sun\n",
      "Cluster 6:\n",
      "cve\n",
      "2014\n",
      "7u51\n",
      "se\n",
      "vulnerability\n",
      "affect\n",
      "different\n",
      "oracle\n",
      "vectors\n",
      "related\n",
      "Cluster 7:\n",
      "java\n",
      "server\n",
      "arbitrary\n",
      "remote\n",
      "allows\n",
      "attackers\n",
      "execute\n",
      "code\n",
      "application\n",
      "sun\n",
      "Cluster 8:\n",
      "earlier\n",
      "update\n",
      "java\n",
      "se\n",
      "environment\n",
      "runtime\n",
      "related\n",
      "jre\n",
      "affect\n",
      "oracle\n",
      "Cluster 9:\n",
      "apache\n",
      "serialized\n",
      "code\n",
      "object\n",
      "arbitrary\n",
      "execute\n",
      "deserialization\n",
      "crafted\n",
      "execution\n",
      "java\n"
     ]
    }
   ],
   "source": [
    "for cluster in range(no_of_clusters):\n",
    "    print(\"Cluster %d:\" %cluster)\n",
    "    \n",
    "    for ind in order_centroids[cluster, :10]:\n",
    "        print('%s' %terms[ind])"
   ]
  },
  {
   "cell_type": "code",
   "execution_count": 30,
   "metadata": {},
   "outputs": [],
   "source": [
    "def concatenate_cve (list_of_cve):\n",
    "    concatenated_cve = \"\"\n",
    "    for cve in list_of_cve:\n",
    "        concatenated_cve += cve\n",
    "    return concatenated_cve"
   ]
  },
  {
   "cell_type": "code",
   "execution_count": 33,
   "metadata": {},
   "outputs": [
    {
     "data": {
      "text/plain": [
       "'\\nfor entity in doc.ents:\\n    print(entity.text, entity.label_)\\n\\n'"
      ]
     },
     "execution_count": 33,
     "metadata": {},
     "output_type": "execute_result"
    }
   ],
   "source": [
    "# python -m spacy download en_core_web_sm\n",
    "import spacy\n",
    "\n",
    "# Load English tokenizer, tagger, parser and NER\n",
    "nlp = spacy.load(\"en_core_web_sm\")\n",
    "\n",
    "# Process whole documents\n",
    "text = (concatenate_cve (list_of_cve))\n",
    "doc = nlp(text)\n",
    "\n",
    "# Analyze syntax\n",
    "#print(\"Noun phrases:\", [chunk.text for chunk in doc.noun_chunks])\n",
    "\n",
    "vulnerability_phrases = [chunk.text for chunk in doc.noun_chunks]\n",
    "\n",
    "#print(\"Verbs:\", [token.lemma_ for token in doc if token.pos_ == \"VERB\"])\n",
    "\n",
    "# Find named entities, phrases and concepts\n",
    "#for entity in doc.ents:\n",
    "   # print(entity.text, entity.label_)\n"
   ]
  },
  {
   "cell_type": "code",
   "execution_count": 34,
   "metadata": {},
   "outputs": [],
   "source": [
    "import seaborn as sns"
   ]
  },
  {
   "cell_type": "code",
   "execution_count": 35,
   "metadata": {},
   "outputs": [],
   "source": [
    "data_frame = pd.DataFrame(vulnerability_phrases,columns=[\"vulnerability_phrases\"])"
   ]
  },
  {
   "cell_type": "code",
   "execution_count": 40,
   "metadata": {},
   "outputs": [
    {
     "data": {
      "text/html": [
       "<div>\n",
       "<style scoped>\n",
       "    .dataframe tbody tr th:only-of-type {\n",
       "        vertical-align: middle;\n",
       "    }\n",
       "\n",
       "    .dataframe tbody tr th {\n",
       "        vertical-align: top;\n",
       "    }\n",
       "\n",
       "    .dataframe thead th {\n",
       "        text-align: right;\n",
       "    }\n",
       "</style>\n",
       "<table border=\"1\" class=\"dataframe\">\n",
       "  <thead>\n",
       "    <tr style=\"text-align: right;\">\n",
       "      <th></th>\n",
       "      <th>vulnerability_phrases</th>\n",
       "    </tr>\n",
       "  </thead>\n",
       "  <tbody>\n",
       "    <tr>\n",
       "      <th>0</th>\n",
       "      <td>untrusted data</td>\n",
       "    </tr>\n",
       "    <tr>\n",
       "      <th>1</th>\n",
       "      <td>the login page</td>\n",
       "    </tr>\n",
       "    <tr>\n",
       "      <th>2</th>\n",
       "      <td>ASSUWEB</td>\n",
       "    </tr>\n",
       "    <tr>\n",
       "      <th>3</th>\n",
       "      <td>ACA ASSUREX RENTES product</td>\n",
       "    </tr>\n",
       "    <tr>\n",
       "      <th>4</th>\n",
       "      <td>a remote attacker</td>\n",
       "    </tr>\n",
       "  </tbody>\n",
       "</table>\n",
       "</div>"
      ],
      "text/plain": [
       "        vulnerability_phrases\n",
       "0              untrusted data\n",
       "1              the login page\n",
       "2                     ASSUWEB\n",
       "3  ACA ASSUREX RENTES product\n",
       "4           a remote attacker"
      ]
     },
     "execution_count": 40,
     "metadata": {},
     "output_type": "execute_result"
    }
   ],
   "source": [
    "data_frame.head()"
   ]
  },
  {
   "cell_type": "code",
   "execution_count": 41,
   "metadata": {},
   "outputs": [
    {
     "data": {
      "text/plain": [
       "array([1295,  770,  563,  530,  506], dtype=int64)"
      ]
     },
     "execution_count": 41,
     "metadata": {},
     "output_type": "execute_result"
    }
   ],
   "source": [
    "data_frame['vulnerability_phrases'].value_counts()[1:6].values"
   ]
  },
  {
   "cell_type": "code",
   "execution_count": null,
   "metadata": {},
   "outputs": [],
   "source": []
  },
  {
   "cell_type": "code",
   "execution_count": null,
   "metadata": {},
   "outputs": [],
   "source": []
  },
  {
   "cell_type": "code",
   "execution_count": null,
   "metadata": {},
   "outputs": [],
   "source": []
  },
  {
   "cell_type": "code",
   "execution_count": 42,
   "metadata": {},
   "outputs": [
    {
     "name": "stderr",
     "output_type": "stream",
     "text": [
      "C:\\Users\\Semiu\\Anaconda3\\lib\\site-packages\\seaborn\\_decorators.py:43: FutureWarning: Pass the following variables as keyword args: x, y. From version 0.12, the only valid positional argument will be `data`, and passing other arguments without an explicit keyword will result in an error or misinterpretation.\n",
      "  FutureWarning\n"
     ]
    },
    {
     "data": {
      "image/png": "[encoded data removed]",
      "text/plain": [
       "<Figure size 576x288 with 1 Axes>"
      ]
     },
     "metadata": {
      "needs_background": "light"
     },
     "output_type": "display_data"
    }
   ],
   "source": [
    "# Top 5 most active groups\n",
    "# Skip index 0; attacks which unable to be attributed to particular group\n",
    "fig, ax = plt.subplots(figsize = (8,4))\n",
    "sns.barplot(data_frame['vulnerability_phrases'].value_counts()[1:6].values, data_frame['vulnerability_phrases'].value_counts()[1:6].index, palette=('magma'));\n",
    "# customization\n",
    "plt.xlabel('Vulnerabilities Phrases',fontsize=12)\n",
    "plt.xticks(size=12)\n",
    "plt.yticks(size=12)\n",
    "plt.title('Top 5 most Vulnerabilities phrases',size=14)\n",
    "plt.show();"
   ]
  },
  {
   "cell_type": "code",
   "execution_count": null,
   "metadata": {},
   "outputs": [],
   "source": []
  },
  {
   "cell_type": "code",
   "execution_count": null,
   "metadata": {},
   "outputs": [],
   "source": [
    "\n",
    "\n",
    "# Dataframe of atkmode groups and ncausalty summed\n",
    "df7 = df4.groupby(['atkmode'])[['ncasualty']].sum().reset_index()\n",
    "# Dataframe of atkmode entries and respective casualties\n",
    "df8 = df4.groupby(['atkmode']).size().to_frame(name = 'inci_count').reset_index()\n",
    "df7['avg_ncasualty'] = df7['ncasualty']/df8['inci_count']\n",
    "\n"
   ]
  },
  {
   "cell_type": "code",
   "execution_count": null,
   "metadata": {},
   "outputs": [],
   "source": [
    "# Subplots for isil (left), taliban (right)\n",
    "f = plt.figure(figsize=(12,5))\n",
    "\n",
    "# 1row,2col,1stplot\n",
    "ax1 = plt.subplot(1,2,1)\n",
    "sns.barplot(df7['atkmode'],df7['ncasualty'],palette='magma')\n",
    "plt.title('Total casualty (by atkmode)',fontsize=14)\n",
    "plt.xticks(rotation=90,fontsize=12)\n",
    "plt.yticks(fontsize=12)\n",
    "plt.ylabel('count',fontsize=12);\n",
    "\n",
    "# 1row,2col,2ndplot\n",
    "ax2 = plt.subplot(1,2,2,sharex=ax1)\n",
    "sns.barplot(df7['atkmode'],df7['avg_ncasualty'],palette='magma')\n",
    "plt.title('Avg casualty (by atkmode)',fontsize=14)\n",
    "plt.xticks(rotation=90,fontsize=12)\n",
    "plt.yticks(fontsize=12)\n",
    "plt.ylabel('count',fontsize=12);"
   ]
  },
  {
   "cell_type": "code",
   "execution_count": null,
   "metadata": {},
   "outputs": [],
   "source": []
  },
  {
   "cell_type": "code",
   "execution_count": null,
   "metadata": {},
   "outputs": [],
   "source": []
  },
  {
   "cell_type": "code",
   "execution_count": 39,
   "metadata": {},
   "outputs": [
    {
     "data": {
      "text/plain": [
       "Text(0, 0.5, 'count')"
      ]
     },
     "execution_count": 39,
     "metadata": {},
     "output_type": "execute_result"
    },
    {
     "data": {
      "image/png": "[encoded data removed]",
      "text/plain": [
       "<Figure size 432x288 with 1 Axes>"
      ]
     },
     "metadata": {
      "needs_background": "light"
     },
     "output_type": "display_data"
    }
   ],
   "source": [
    "#Create a chart\n",
    "chart = sns.countplot(x='vulnerability_phrases', data=data_frame)\n",
    "chart.set_xlabel(\"vulnerability_phrases\", fontsize = 40)\n",
    "chart.set_ylabel(\"count\", fontsize = 40)"
   ]
  },
  {
   "cell_type": "code",
   "execution_count": null,
   "metadata": {},
   "outputs": [],
   "source": []
  },
  {
   "cell_type": "markdown",
   "metadata": {},
   "source": [
    "Evaluation of clustering models for unspervised learning\n",
    "\n",
    "1. https://stats.stackexchange.com/questions/21807/evaluation-measures-of-goodness-or-validity-of-clustering-without-having-truth\n",
    "\n",
    "2. https://ttic.uchicago.edu/~shubhendu/Papers/clustering_bagging.pdf\n",
    "\n",
    "3. https://arxiv.org/pdf/1202.5695.pdf\n",
    "\n",
    "4. https://scikit-learn.org/stable/modules/clustering.html#clustering-performance-evaluation\n",
    "\n",
    "5. https://arxiv.org/pdf/1905.05667.pdf"
   ]
  },
  {
   "cell_type": "code",
   "execution_count": null,
   "metadata": {},
   "outputs": [],
   "source": []
  }
 ],
 "metadata": {
  "kernelspec": {
   "display_name": "Python 3",
   "language": "python",
   "name": "python3"
  },
  "language_info": {
   "codemirror_mode": {
    "name": "ipython",
    "version": 3
   },
   "file_extension": ".py",
   "mimetype": "text/x-python",
   "name": "python",
   "nbconvert_exporter": "python",
   "pygments_lexer": "ipython3",
   "version": "3.7.9"
  }
 },
 "nbformat": 4,
 "nbformat_minor": 4
}
