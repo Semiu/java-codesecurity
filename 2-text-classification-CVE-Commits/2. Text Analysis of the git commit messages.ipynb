{
 "cells": [
  {
   "cell_type": "markdown",
   "id": "geological-syndication",
   "metadata": {},
   "source": [
    "This script analyzes the commit messages parsed from the Java's projects [here.](https://github.com/Semiu/java-codesecurity/blob/main/1-data-scraping-curating/5.%20Parsing%20the%20commit%20logs.ipynb)\n",
    "\n",
    "It aims to identify vulnerabilities-related words in the commit messages. In acheiving this, it checks if any of the tokens from the CVEs illustrated [in this script](https://github.com/Semiu/java-codesecurity/blob/main/2-text-classification-CVE-Commits/1b.%20Text%20Analysis%20of%20CVE's%20vulnerabilities%20names%20and%20entities.ipynb) are found in the tokens generated from git commit messages."
   ]
  },
  {
   "cell_type": "code",
   "execution_count": 37,
   "id": "agricultural-angel",
   "metadata": {},
   "outputs": [
    {
     "name": "stderr",
     "output_type": "stream",
     "text": [
      "[nltk_data] Downloading package punkt to\n",
      "[nltk_data]     C:\\Users\\Semiu\\AppData\\Roaming\\nltk_data...\n",
      "[nltk_data]   Package punkt is already up-to-date!\n"
     ]
    }
   ],
   "source": [
    "#Import the libraries\n",
    "import pandas as pd\n",
    "import nltk\n",
    "from nltk.stem import WordNetLemmatizer\n",
    "nltk.download('punkt')\n",
    "import seaborn as sns\n",
    "import matplotlib.pyplot as plt"
   ]
  },
  {
   "cell_type": "code",
   "execution_count": 38,
   "id": "surgical-reader",
   "metadata": {},
   "outputs": [],
   "source": [
    "#Create stop words from fundamental English stop words\n",
    "stopwords = set(w.rstrip() for w in open(r'C:\\Users\\Semiu\\Documents\\java-codesecurity\\2-text-classification-CVE-Commits\\stopwords.txt'))"
   ]
  },
  {
   "cell_type": "code",
   "execution_count": 39,
   "id": "least-removal",
   "metadata": {},
   "outputs": [],
   "source": [
    "#Initialize WordNetLemmatizer\n",
    "wordnet_lemmatizer = WordNetLemmatizer()"
   ]
  },
  {
   "cell_type": "code",
   "execution_count": 40,
   "id": "environmental-brain",
   "metadata": {},
   "outputs": [],
   "source": [
    "#Tokenization and Text pre-processing function\n",
    "def my_tokenizer(s):\n",
    "    s = s.lower() # downcase\n",
    "    tokens = nltk.tokenize.word_tokenize(s) # split string into words (tokens)\n",
    "    tokens = [t for t in tokens if len(t) > 2 or len(t)==1]   # remove short words, they're probably not useful\n",
    "    tokens = [wordnet_lemmatizer.lemmatize(t) for t in tokens] # put words into base form\n",
    "    tokens = [t for t in tokens if t not in stopwords] # remove stopwords\n",
    "    tokens = [t for t in tokens if not any(c.isdigit() for c in t)] # remove any digits, i.e. \"7.0\"\n",
    "    return tokens"
   ]
  },
  {
   "cell_type": "code",
   "execution_count": 41,
   "id": "secondary-allowance",
   "metadata": {},
   "outputs": [],
   "source": [
    "#Tokenize each of the commit message\n",
    "def msg_to_tokens():\n",
    "    \n",
    "    msg_tokens = []\n",
    "    \n",
    "    git_commit = pd.read_csv(\"F:\\\\Dataset\\\\githubrepo\\\\Java\\\\java_commit_info.csv\")\n",
    "    \n",
    "    for msg in git_commit['message']:\n",
    "        \n",
    "        try:\n",
    "            msg = str(msg).encode('ascii', 'ignore') # this will throw exception if bad characters\n",
    "            msg = msg.decode('utf-8')\n",
    "            tokens = my_tokenizer(msg) #Call the my_tokenizer function for each cve in the list_of_phrases\n",
    "            \n",
    "            msg_tokens.append(tokens)\n",
    "        except Exception as e:\n",
    "            print(e)\n",
    "    return msg_tokens"
   ]
  },
  {
   "cell_type": "code",
   "execution_count": 42,
   "id": "dental-elements",
   "metadata": {},
   "outputs": [],
   "source": [
    "#A list variable to hold the msg_to_tokens\n",
    "list_of_msg_token = msg_to_tokens()"
   ]
  },
  {
   "cell_type": "code",
   "execution_count": null,
   "id": "brilliant-swing",
   "metadata": {},
   "outputs": [],
   "source": [
    "list_of_msg_token"
   ]
  },
  {
   "cell_type": "code",
   "execution_count": 43,
   "id": "primary-journalist",
   "metadata": {},
   "outputs": [],
   "source": [
    "#Load the Java CVE tokens\n",
    "def load_java_CVE_tokens():\n",
    "    java_tokens = []\n",
    "    \n",
    "    java_CVE_tokens = pd.read_csv(r\"C:\\Users\\Semiu\\Documents\\java-codesecurity\\2-text-classification-CVE-Commits\\tokens.csv\")\n",
    "    \n",
    "    for token in java_CVE_tokens['vulnerability_tokens']:\n",
    "        java_tokens.append(token)\n",
    "        \n",
    "    return java_tokens"
   ]
  },
  {
   "cell_type": "code",
   "execution_count": 44,
   "id": "about-screen",
   "metadata": {},
   "outputs": [],
   "source": [
    "#A list variable to hold the load_java_CVE_tokens\n",
    "list_of_java_tokens = load_java_CVE_tokens()"
   ]
  },
  {
   "cell_type": "code",
   "execution_count": 45,
   "id": "direct-traveler",
   "metadata": {},
   "outputs": [],
   "source": [
    "#A function to check tokens in the list_of_msg_token that are also present in list_of_java_tokens\n",
    "def check_tokens():\n",
    "    co_tokens = []\n",
    "    not_co = []\n",
    "    for git_token in list_of_msg_token:\n",
    "        for g_t in git_token:\n",
    "            if g_t in list_of_java_tokens:\n",
    "                co_tokens.append(g_t)\n",
    "            else:\n",
    "                not_co.append(g_t)\n",
    "    return co_tokens, not_co"
   ]
  },
  {
   "cell_type": "code",
   "execution_count": 46,
   "id": "stuffed-climb",
   "metadata": {},
   "outputs": [],
   "source": [
    "#A list variable to hold the return values of the check_tokens() function\n",
    "list_checked_tokens = check_tokens()"
   ]
  },
  {
   "cell_type": "code",
   "execution_count": 47,
   "id": "light-directory",
   "metadata": {},
   "outputs": [],
   "source": [
    "#Convert the vulnerabilities tokens to data frame to work with the visualization library\n",
    "checked_tokens_df = pd.DataFrame(list_checked_tokens[0],columns=[\"git_commit_tokens\"])"
   ]
  },
  {
   "cell_type": "code",
   "execution_count": 48,
   "id": "sound-steal",
   "metadata": {},
   "outputs": [
    {
     "name": "stderr",
     "output_type": "stream",
     "text": [
      "C:\\Users\\Semiu\\Anaconda3\\lib\\site-packages\\seaborn\\_decorators.py:43: FutureWarning: Pass the following variables as keyword args: x, y. From version 0.12, the only valid positional argument will be `data`, and passing other arguments without an explicit keyword will result in an error or misinterpretation.\n",
      "  FutureWarning\n"
     ]
    },
    {
     "data": {
      "image/png": "[encoded data removed]",
      "text/plain": [
       "<Figure size 576x288 with 1 Axes>"
      ]
     },
     "metadata": {
      "needs_background": "light"
     },
     "output_type": "display_data"
    }
   ],
   "source": [
    "# Plot the Top 20 vulnerabilities tokens\n",
    "fig, ax = plt.subplots(figsize = (8,4))\n",
    "sns.barplot(checked_tokens_df[\"git_commit_tokens\"].value_counts()[1:20].values, checked_tokens_df[\"git_commit_tokens\"].value_counts()[1:20].index, palette=('magma'));\n",
    "# customization\n",
    "plt.xlabel(\"Git Commit Tokens\",fontsize=12)\n",
    "plt.xticks(size=12)\n",
    "plt.yticks(size=12)\n",
    "plt.title('Top 20 most Git Commit Tokens',size=14)\n",
    "plt.show();"
   ]
  },
  {
   "cell_type": "code",
   "execution_count": null,
   "id": "analyzed-thought",
   "metadata": {},
   "outputs": [],
   "source": []
  }
 ],
 "metadata": {
  "kernelspec": {
   "display_name": "Python 3",
   "language": "python",
   "name": "python3"
  },
  "language_info": {
   "codemirror_mode": {
    "name": "ipython",
    "version": 3
   },
   "file_extension": ".py",
   "mimetype": "text/x-python",
   "name": "python",
   "nbconvert_exporter": "python",
   "pygments_lexer": "ipython3",
   "version": "3.7.9"
  }
 },
 "nbformat": 4,
 "nbformat_minor": 5
}
