{
 "cells": [
  {
   "cell_type": "markdown",
   "id": "dangerous-basin",
   "metadata": {},
   "source": [
    "This script analyzes the CVE texts pre-processed [here.](https://github.com/Semiu/java-codesecurity/blob/main/2-text-classification-CVE-Commits/1a.%20Pre-processing%20of%20the%20Vulnerabilities%20(CVEs)%20.ipynb)\n",
    "\n",
    "By treating its specific stop words, it visualizes the tokens in the CVEs to demonstrate the popular vulnerabilities recorded in the NVB's CVEs for Java programming language."
   ]
  },
  {
   "cell_type": "code",
   "execution_count": 1,
   "id": "responsible-involvement",
   "metadata": {},
   "outputs": [
    {
     "name": "stderr",
     "output_type": "stream",
     "text": [
      "[nltk_data] Downloading package punkt to\n",
      "[nltk_data]     C:\\Users\\Semiu\\AppData\\Roaming\\nltk_data...\n",
      "[nltk_data]   Package punkt is already up-to-date!\n"
     ]
    }
   ],
   "source": [
    "#Import the libaries\n",
    "import pandas as pd\n",
    "import seaborn as sns\n",
    "import nltk\n",
    "from nltk.stem import WordNetLemmatizer\n",
    "nltk.download('punkt')\n",
    "import matplotlib.pyplot as plt"
   ]
  },
  {
   "cell_type": "code",
   "execution_count": 2,
   "id": "thick-governor",
   "metadata": {},
   "outputs": [],
   "source": [
    "#Function to load the vulnerability phrases into a corpus\n",
    "def load_vulnerability_phrases():\n",
    "    \n",
    "    phrases_corpus = []\n",
    "    \n",
    "    java_cve_phrase = pd.read_csv(\"C:\\\\Users\\\\Semiu\\\\Documents\\\\java-codesecurity\\\\JavaVulData\\\\vulnerability_phrases.csv\")\n",
    "    \n",
    "    for phrase in java_cve_phrase['vulnerability_phrases']:\n",
    "        #Little pre-processing\n",
    "        striped_phrase = str(phrase).strip()\n",
    "        \n",
    "        phrases_corpus.append(striped_phrase)\n",
    "        \n",
    "    return phrases_corpus"
   ]
  },
  {
   "cell_type": "code",
   "execution_count": 3,
   "id": "removed-camera",
   "metadata": {},
   "outputs": [],
   "source": [
    "#The function return value to be taken into a variable\n",
    "list_of_phrases = load_vulnerability_phrases()"
   ]
  },
  {
   "cell_type": "code",
   "execution_count": 4,
   "id": "tropical-geneva",
   "metadata": {},
   "outputs": [],
   "source": [
    "#Create stop words from fundamental English stop words\n",
    "stopwords = set(w.rstrip() for w in open(r'C:\\Users\\Semiu\\Documents\\java-codesecurity\\2-text-classification-CVE-Commits\\stopwords.txt'))\n",
    "\n",
    "# Add more stopwords specific to this problem - as seen in the raw data\n",
    "#This was iterately expanded\n",
    "stopwords = stopwords.union({\n",
    "    'java', 'se', 'vulnerability', 'sdk', 'remote', 'oracle', 'database', 'server', 'attacker', 'sap', 'netweaver', 'android',\n",
    "'ibm', 'embedded', 'product', 'solution', 'manager', 'xstream', 'allows', 'an', 'unauthenticated', 'component', 'issue',\n",
    "'discovered', 'noise', 'apache', 'xwiki', 'junit', 'discovered', 'unsafe', 'code', 'netscape', 'microsoft', 'machine', 'virtual',\n",
    "'bea', 'navigator', 'serversocket', 'weblogic', 'vm', 'development', 'kit', 'jre', 'unspecified', 'unknown', 'sun', 'runtime', \n",
    "'environment', 'and', '2d', 'web', 'confidentiality', 'integrity', 'unknown', 'vectors', 'products', 'suite', 'in', 'the', 'availability',\n",
    "'update', 'mobile', 'cicso', 'mobility', 'tomcat', 'update', 'in', 'earlier', 'openjdk', 'red', 'hat', 'related', 'postgresql', 'netflix',\n",
    "'issue','deployment', 'attack', 'version', 'compromise', 'i', 'sandbox', 'sandboxed', 'this', 'result', 'affect', 'via', '',\n",
    "'security', 'service', 'refresh', 'internet', 'access', 'vector', 'cv', 'base', 'score', 'data', 'apis', 'network', 'running',\n",
    "'applets', 'SDK', 'JDK', 'vulnerabilities', 'it', 'visual', 'studio'})"
   ]
  },
  {
   "cell_type": "code",
   "execution_count": 5,
   "id": "completed-fantasy",
   "metadata": {},
   "outputs": [],
   "source": [
    "#Initialize WordNetLemmatizer\n",
    "wordnet_lemmatizer = WordNetLemmatizer()"
   ]
  },
  {
   "cell_type": "code",
   "execution_count": 6,
   "id": "mighty-meeting",
   "metadata": {},
   "outputs": [],
   "source": [
    "#Tokenization and Text pre-processing function\n",
    "def my_tokenizer(s):\n",
    "    s = s.lower() # downcase\n",
    "    tokens = nltk.tokenize.word_tokenize(s) # split string into words (tokens)\n",
    "    tokens = [t for t in tokens if len(t) > 2 or len(t)==1]   # remove short words, they're probably not useful\n",
    "    tokens = [wordnet_lemmatizer.lemmatize(t) for t in tokens] # put words into base form\n",
    "    tokens = [t for t in tokens if t not in stopwords] # remove stopwords\n",
    "    tokens = [t for t in tokens if not any(c.isdigit() for c in t)] # remove any digits, i.e. \"7.0\"\n",
    "    return tokens"
   ]
  },
  {
   "cell_type": "code",
   "execution_count": 7,
   "id": "cosmetic-duplicate",
   "metadata": {},
   "outputs": [],
   "source": [
    "#Tokenize each of the CVEs in the list_of_CVE phrases\n",
    "def cve_to_tokens():\n",
    "    all_tokens = []\n",
    "    for java_cve in list_of_phrases:\n",
    "        try:\n",
    "            java_cve = java_cve.encode('ascii', 'ignore') # this will throw exception if bad characters\n",
    "            java_cve = java_cve.decode('utf-8')\n",
    "            tokens = my_tokenizer(java_cve) #Call the my_tokenizer function for each cve in the list_of_phrases\n",
    "            all_tokens.append(tokens)\n",
    "        except Exception as e:\n",
    "            print(e)\n",
    "    return all_tokens"
   ]
  },
  {
   "cell_type": "code",
   "execution_count": 8,
   "id": "confident-gender",
   "metadata": {},
   "outputs": [],
   "source": [
    "#list of token variable to hold the cve_to_tokens() function return value\n",
    "list_of_tokens = cve_to_tokens()"
   ]
  },
  {
   "cell_type": "code",
   "execution_count": 9,
   "id": "animated-bibliography",
   "metadata": {},
   "outputs": [],
   "source": [
    "#A function to further process the tokens\n",
    "def process_tokens(list_of_tokens):\n",
    "    new_sentence = []\n",
    "    #For additional pre-processing due to output from tokenization\n",
    "    eliminate_words = [',',\"'\",'.','(',')','{','}',':','e.g',';','JDK', 'SDK', 'jdk', 'system', 'application', 'file', 'function', 'aka']\n",
    "    for token_list in list_of_tokens:\n",
    "        for token in token_list:\n",
    "            if token not in eliminate_words:\n",
    "                new_sentence.append(token)\n",
    "    return new_sentence"
   ]
  },
  {
   "cell_type": "code",
   "execution_count": 10,
   "id": "sharing-circuit",
   "metadata": {},
   "outputs": [],
   "source": [
    "#The processed tokens in a variable\n",
    "list_of_processed_tokens = process_tokens(list_of_tokens)"
   ]
  },
  {
   "cell_type": "code",
   "execution_count": 11,
   "id": "inside-interview",
   "metadata": {},
   "outputs": [],
   "source": [
    "#Convert the vulnerabilities tokens to data frame to work with the visualization library\n",
    "vul_phrases_df = pd.DataFrame(list_of_processed_tokens,columns=[\"vulnerability_tokens\"])"
   ]
  },
  {
   "cell_type": "code",
   "execution_count": 12,
   "id": "bizarre-mystery",
   "metadata": {},
   "outputs": [],
   "source": [
    "#Save these tokens in a csv file for Git commit analysis\n",
    "vul_phrases_df.to_csv(r'C:\\Users\\Semiu\\Documents\\java-codesecurity\\2-text-classification-CVE-Commits\\tokens.csv',index=False)"
   ]
  },
  {
   "cell_type": "code",
   "execution_count": 13,
   "id": "everyday-depression",
   "metadata": {},
   "outputs": [
    {
     "name": "stderr",
     "output_type": "stream",
     "text": [
      "C:\\Users\\Semiu\\Anaconda3\\lib\\site-packages\\seaborn\\_decorators.py:43: FutureWarning: Pass the following variables as keyword args: x, y. From version 0.12, the only valid positional argument will be `data`, and passing other arguments without an explicit keyword will result in an error or misinterpretation.\n",
      "  FutureWarning\n"
     ]
    },
    {
     "data": {
      "image/png": "[encoded data removed]",
      "text/plain": [
       "<Figure size 576x288 with 1 Axes>"
      ]
     },
     "metadata": {
      "needs_background": "light"
     },
     "output_type": "display_data"
    }
   ],
   "source": [
    "# Plot the Top 20 vulnerabilities tokens\n",
    "fig, ax = plt.subplots(figsize = (8,4))\n",
    "sns.barplot(vul_phrases_df['vulnerability_tokens'].value_counts()[1:20].values, vul_phrases_df['vulnerability_tokens'].value_counts()[1:20].index, palette=('magma'));\n",
    "# customization\n",
    "plt.xlabel('Vulnerabilities Tokens',fontsize=12)\n",
    "plt.xticks(size=12)\n",
    "plt.yticks(size=12)\n",
    "plt.title('Top 20 most Vulnerabilities Tokens',size=14)\n",
    "plt.show();"
   ]
  },
  {
   "cell_type": "markdown",
   "id": "further-pencil",
   "metadata": {},
   "source": [
    "With domain knowledge, it is valid to conclude that, based on the top 20 vulnerability tokens that:\n",
    "\n",
    "a. cross-site scripting\n",
    "\n",
    "b. buffer overflow\n",
    "\n",
    "c. data deserialization\n",
    "\n",
    "d. input validation for untrusted object\n",
    "\n",
    "e. validation method bypass, are some of the leading vulnerabilities for Java languages as recorded by the NVB.\n"
   ]
  },
  {
   "cell_type": "code",
   "execution_count": null,
   "id": "simple-omega",
   "metadata": {},
   "outputs": [],
   "source": []
  }
 ],
 "metadata": {
  "kernelspec": {
   "display_name": "Python 3",
   "language": "python",
   "name": "python3"
  },
  "language_info": {
   "codemirror_mode": {
    "name": "ipython",
    "version": 3
   },
   "file_extension": ".py",
   "mimetype": "text/x-python",
   "name": "python",
   "nbconvert_exporter": "python",
   "pygments_lexer": "ipython3",
   "version": "3.7.9"
  }
 },
 "nbformat": 4,
 "nbformat_minor": 5
}
