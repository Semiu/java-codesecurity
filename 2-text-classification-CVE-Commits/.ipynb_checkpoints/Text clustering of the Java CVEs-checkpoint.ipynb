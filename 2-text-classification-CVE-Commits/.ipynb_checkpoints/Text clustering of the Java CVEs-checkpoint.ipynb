{
 "cells": [
  {
   "cell_type": "markdown",
   "metadata": {},
   "source": [
    "This script performs clustering on the scraped data of Java CVE descriptions done [here](https://github.com/Semiu/java-codesecurity/blob/main/data-scraping-curating/Java%20CVEs%20from%20the%20National%20Vulnerabilities%20Database.ipynb).\n",
    "\n",
    "It aims to identify core categories of Java CVEs as found in the National Vulnerabilities Database."
   ]
  },
  {
   "cell_type": "code",
   "execution_count": 44,
   "metadata": {},
   "outputs": [],
   "source": [
    "#Import the libraries\n",
    "from sklearn.feature_extraction.text import TfidfVectorizer\n",
    "from sklearn.cluster import KMeans\n",
    "from sklearn import metrics\n",
    "\n",
    "import numpy as np\n",
    "import pandas as pd\n",
    "import seaborn as sns\n",
    "import spacy\n",
    "import matplotlib.pyplot as plt"
   ]
  },
  {
   "cell_type": "code",
   "execution_count": 45,
   "metadata": {},
   "outputs": [],
   "source": [
    "#Function to extract the text (CVE descriptions)\n",
    "def extract_text_corpus():\n",
    "    \n",
    "    cve_text_corpus = []\n",
    "    \n",
    "    java_cve_text = pd.read_csv(\"C:\\\\Users\\\\Semiu\\\\Documents\\\\java-codesecurity\\\\JavaVulData\\\\JavaVulData.csv\")\n",
    "    \n",
    "    for cve in java_cve_text['vulnerability_description']:\n",
    "        cve_text_corpus.append(cve)\n",
    "        \n",
    "    return cve_text_corpus"
   ]
  },
  {
   "cell_type": "code",
   "execution_count": 46,
   "metadata": {},
   "outputs": [],
   "source": [
    "#Initialize a vectorizer from the TFIDF\n",
    "vectorizer = TfidfVectorizer(stop_words='english')\n",
    "\n",
    "vectorized_corpus = vectorizer.fit_transform(extract_text_corpus())"
   ]
  },
  {
   "cell_type": "code",
   "execution_count": 47,
   "metadata": {},
   "outputs": [],
   "source": [
    "#The K-Means algorithm for clustering\n",
    "#Determining the optimal number of clusters using the Elbow Method with Inertia\n",
    "inertias = []\n",
    "mapping = {}\n",
    "\n",
    "no_of_clusters = range(1, 12)\n",
    " \n",
    "for cluster in no_of_clusters:\n",
    "    \n",
    "    model = KMeans(n_clusters = cluster, init = 'k-means++', max_iter = 100, n_init = 1)\n",
    "    \n",
    "    #Fit the model with the vectorized corpus\n",
    "    model.fit(vectorized_corpus)\n",
    "    \n",
    "    #Append the model inertia values\n",
    "    inertias.append(model.inertia_)\n",
    "    \n",
    "    #Map the cluster with the model inertia values   \n",
    "    mapping[cluster] = model.inertia_"
   ]
  },
  {
   "cell_type": "code",
   "execution_count": 48,
   "metadata": {},
   "outputs": [
    {
     "name": "stdout",
     "output_type": "stream",
     "text": [
      "1 : 2051.505689665938\n",
      "2 : 1955.475884781319\n",
      "3 : 1932.23482921119\n",
      "4 : 1836.6801745667904\n",
      "5 : 1804.0112387254424\n",
      "6 : 1788.8168973867857\n",
      "7 : 1775.3372650803792\n",
      "8 : 1759.2204810947158\n",
      "9 : 1762.1360049773343\n",
      "10 : 1731.9475963595926\n",
      "11 : 1715.5242880781136\n"
     ]
    }
   ],
   "source": [
    "for key, val in mapping.items():\n",
    "    print(f'{key} : {val}')"
   ]
  },
  {
   "cell_type": "code",
   "execution_count": 49,
   "metadata": {},
   "outputs": [
    {
     "data": {
      "image/png": "[encoded data removed]",
      "text/plain": [
       "<Figure size 432x288 with 1 Axes>"
      ]
     },
     "metadata": {
      "needs_background": "light"
     },
     "output_type": "display_data"
    }
   ],
   "source": [
    "#Plotting the Elbow method using Inertia\n",
    "plt.plot(no_of_clusters, inertias, 'bx-')\n",
    "plt.xlabel('Number of clusters')\n",
    "plt.ylabel('Inertia')\n",
    "plt.title('The Elbow Method using Inertia')\n",
    "plt.show()\n",
    "#The plot suggests 4 as the optimal number of clusters in the corpus"
   ]
  },
  {
   "cell_type": "code",
   "execution_count": 54,
   "metadata": {},
   "outputs": [
    {
     "data": {
      "text/plain": [
       "KMeans(max_iter=100, n_init=1)"
      ]
     },
     "execution_count": 54,
     "metadata": {},
     "output_type": "execute_result"
    }
   ],
   "source": [
    "#When n_clusters = 4\n",
    "model = KMeans(n_clusters = 8, init = 'k-means++', max_iter = 100, n_init = 1)\n",
    "    \n",
    "#Fit the model with the vectorized corpus\n",
    "model.fit(vectorized_corpus)"
   ]
  },
  {
   "cell_type": "code",
   "execution_count": 55,
   "metadata": {},
   "outputs": [],
   "source": [
    "order_centroids = model.cluster_centers_.argsort()[:, ::-1]\n",
    "terms = vectorizer.get_feature_names()"
   ]
  },
  {
   "cell_type": "code",
   "execution_count": 56,
   "metadata": {},
   "outputs": [
    {
     "name": "stdout",
     "output_type": "stream",
     "text": [
      "Cluster 0:\n",
      "cve\n",
      "2014\n",
      "different\n",
      "vulnerability\n",
      "affect\n",
      "unknown\n",
      "2013\n",
      "confidentiality\n",
      "vectors\n",
      "unspecified\n",
      "integrity\n",
      "se\n",
      "oracle\n",
      "12\n",
      "availability\n",
      "2015\n",
      "java\n",
      "11\n",
      "remote\n",
      "related\n",
      "Cluster 1:\n",
      "earlier\n",
      "update\n",
      "java\n",
      "se\n",
      "oracle\n",
      "affect\n",
      "environment\n",
      "related\n",
      "runtime\n",
      "unknown\n",
      "unspecified\n",
      "vectors\n",
      "vulnerability\n",
      "component\n",
      "jre\n",
      "confidentiality\n",
      "integrity\n",
      "availability\n",
      "remote\n",
      "attackers\n",
      "Cluster 2:\n",
      "java\n",
      "arbitrary\n",
      "remote\n",
      "execute\n",
      "attackers\n",
      "allows\n",
      "code\n",
      "crafted\n",
      "service\n",
      "server\n",
      "application\n",
      "sap\n",
      "ibm\n",
      "apache\n",
      "10\n",
      "file\n",
      "does\n",
      "users\n",
      "aka\n",
      "vulnerability\n",
      "Cluster 3:\n",
      "se\n",
      "affect\n",
      "related\n",
      "oracle\n",
      "vectors\n",
      "unspecified\n",
      "confidentiality\n",
      "integrity\n",
      "unknown\n",
      "vulnerability\n",
      "java\n",
      "embedded\n",
      "availability\n",
      "attackers\n",
      "remote\n",
      "allows\n",
      "7u51\n",
      "7u45\n",
      "7u60\n",
      "7u80\n",
      "Cluster 4:\n",
      "se\n",
      "java\n",
      "embedded\n",
      "sandboxed\n",
      "cvss\n",
      "jrockit\n",
      "vulnerability\n",
      "web\n",
      "exploited\n",
      "data\n",
      "apis\n",
      "start\n",
      "applications\n",
      "applets\n",
      "access\n",
      "component\n",
      "attacks\n",
      "specified\n",
      "service\n",
      "successful\n",
      "Cluster 5:\n",
      "jre\n",
      "jdk\n",
      "earlier\n",
      "update\n",
      "sdk\n",
      "sun\n",
      "environment\n",
      "runtime\n",
      "java\n",
      "aka\n",
      "untrusted\n",
      "attackers\n",
      "files\n",
      "unspecified\n",
      "2_18\n",
      "development\n",
      "overflow\n",
      "privileges\n",
      "allows\n",
      "remote\n",
      "Cluster 6:\n",
      "se\n",
      "java\n",
      "cvss\n",
      "vulnerability\n",
      "code\n",
      "attacks\n",
      "deployments\n",
      "typically\n",
      "load\n",
      "run\n",
      "successful\n",
      "embedded\n",
      "sandboxed\n",
      "attacker\n",
      "access\n",
      "score\n",
      "impacts\n",
      "supported\n",
      "base\n",
      "compromise\n",
      "Cluster 7:\n",
      "server\n",
      "sun\n",
      "web\n",
      "xss\n",
      "cross\n",
      "site\n",
      "scripting\n",
      "html\n",
      "script\n",
      "inject\n",
      "remote\n",
      "attackers\n",
      "java\n",
      "vulnerability\n",
      "arbitrary\n",
      "unspecified\n",
      "allows\n",
      "vectors\n",
      "directory\n",
      "jsp\n"
     ]
    }
   ],
   "source": [
    "for cluster in range(8):\n",
    "    print(\"Cluster %d:\" %cluster)\n",
    "    \n",
    "    for ind in order_centroids[cluster, :20]:\n",
    "        print('%s' %terms[ind])"
   ]
  },
  {
   "cell_type": "code",
   "execution_count": 57,
   "metadata": {},
   "outputs": [],
   "source": [
    "#Get the function's return value into a variable\n",
    "list_of_cve = extract_text_corpus()"
   ]
  },
  {
   "cell_type": "code",
   "execution_count": 58,
   "metadata": {},
   "outputs": [],
   "source": [
    "#Function to concantenate the list of CVE to a string\n",
    "def concatenate_cve (list_of_cve):\n",
    "    concatenated_cve = \"\"\n",
    "    for cve in list_of_cve:\n",
    "        concatenated_cve += cve\n",
    "    return concatenated_cve"
   ]
  },
  {
   "cell_type": "code",
   "execution_count": 59,
   "metadata": {},
   "outputs": [],
   "source": [
    "# Load English tokenizer, tagger, parser and NER\n",
    "nlp = spacy.load(\"en_core_web_sm\")\n",
    "\n",
    "# Process whole documents\n",
    "text = (concatenate_cve (list_of_cve))\n",
    "doc = nlp(text)\n",
    "\n",
    "# Analyze syntax\n",
    "vulnerability_phrases = [chunk.text for chunk in doc.noun_chunks]"
   ]
  },
  {
   "cell_type": "code",
   "execution_count": 60,
   "metadata": {},
   "outputs": [],
   "source": [
    "#Convert the vulnerabilities phrases/entities to data frame\n",
    "vul_phrases_df = pd.DataFrame(vulnerability_phrases,columns=[\"vulnerability_phrases\"])"
   ]
  },
  {
   "cell_type": "code",
   "execution_count": 62,
   "metadata": {},
   "outputs": [
    {
     "name": "stderr",
     "output_type": "stream",
     "text": [
      "C:\\Users\\Semiu\\Anaconda3\\lib\\site-packages\\seaborn\\_decorators.py:43: FutureWarning: Pass the following variables as keyword args: x, y. From version 0.12, the only valid positional argument will be `data`, and passing other arguments without an explicit keyword will result in an error or misinterpretation.\n",
      "  FutureWarning\n"
     ]
    },
    {
     "data": {
      "image/png": "[encoded data removed]",
      "text/plain": [
       "<Figure size 576x288 with 1 Axes>"
      ]
     },
     "metadata": {
      "needs_background": "light"
     },
     "output_type": "display_data"
    }
   ],
   "source": [
    "# Top 5 vulnerabilities phrases\n",
    "fig, ax = plt.subplots(figsize = (8,4))\n",
    "sns.barplot(vul_phrases_df['vulnerability_phrases'].value_counts()[1:5].values, vul_phrases_df['vulnerability_phrases'].value_counts()[1:5].index, palette=('magma'));\n",
    "# customization\n",
    "plt.xlabel('Vulnerabilities Phrases',fontsize=12)\n",
    "plt.xticks(size=12)\n",
    "plt.yticks(size=12)\n",
    "plt.title('Top 5 most Vulnerabilities phrases',size=14)\n",
    "plt.show();"
   ]
  },
  {
   "cell_type": "markdown",
   "metadata": {},
   "source": [
    "The leading vulnerabilities suggested, based on the vulnerabilities phrases and the review of the Java CVE content are:\n",
    "1. Remote code execution/attack\n",
    "2. Cross site scripting, is shown as an associate of remote attack and predominantly found in Oracle Java SE 7 runtime\n",
    "3. Buffer overflow, from lack of input sanitization."
   ]
  },
  {
   "cell_type": "code",
   "execution_count": null,
   "metadata": {},
   "outputs": [],
   "source": []
  }
 ],
 "metadata": {
  "kernelspec": {
   "display_name": "Python 3",
   "language": "python",
   "name": "python3"
  },
  "language_info": {
   "codemirror_mode": {
    "name": "ipython",
    "version": 3
   },
   "file_extension": ".py",
   "mimetype": "text/x-python",
   "name": "python",
   "nbconvert_exporter": "python",
   "pygments_lexer": "ipython3",
   "version": "3.7.9"
  }
 },
 "nbformat": 4,
 "nbformat_minor": 4
}
